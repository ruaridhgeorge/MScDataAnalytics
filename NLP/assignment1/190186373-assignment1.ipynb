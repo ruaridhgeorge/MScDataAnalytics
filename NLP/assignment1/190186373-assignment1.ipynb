{
 "cells": [
  {
   "cell_type": "markdown",
   "metadata": {},
   "source": [
    "# [COM4513-6513] Assignment 1: Text Classification with Logistic Regression\n",
    "\n",
    "### Instructor: Nikos Aletras\n",
    "\n",
    "\n",
    "The goal of this assignment is to develop and test two text classification systems: \n",
    "\n",
    "- **Task 1:** sentiment analysis, in particular to predict the sentiment of movie review, i.e. positive or negative (binary classification).\n",
    "- **Task 2:** topic classification, to predict whether a news article is about International issues, Sports or Business (multiclass classification).\n",
    "\n",
    "\n",
    "For that purpose, you will implement:\n",
    "\n",
    "- Text processing methods for extracting Bag-Of-Word features, using (1) unigrams, bigrams and trigrams to obtain vector representations of documents. Two vector weighting schemes should be tested: (1) raw frequencies (**3 marks; 1 for each ngram type**); (2) tf.idf (**1 marks**). \n",
    "- Binary Logistic Regression classifiers that will be able to accurately classify movie reviews trained with (1) BOW-count (raw frequencies); and (2) BOW-tfidf (tf.idf weighted) for Task 1. \n",
    "- Multiclass Logistic Regression classifiers that will be able to accurately classify news articles trained with (1) BOW-count (raw frequencies); and (2) BOW-tfidf (tf.idf weighted) for Task 2. \n",
    "- The Stochastic Gradient Descent (SGD) algorithm to estimate the parameters of your Logistic Regression models. Your SGD algorithm should:\n",
    "    - Minimise the Binary Cross-entropy loss function for Task 1 (**3 marks**)\n",
    "    - Minimise the Categorical Cross-entropy loss function for Task 2 (**3 marks**)\n",
    "    - Use L2 regularisation (both tasks) (**1 mark**)\n",
    "    - Perform multiple passes (epochs) over the training data (**1 mark**)\n",
    "    - Randomise the order of training data after each pass (**1 mark**)\n",
    "    - Stop training if the difference between the current and previous validation loss is smaller than a threshold (**1 mark**)\n",
    "    - After each epoch print the training and development loss (**1 mark**)\n",
    "- Discuss how did you choose hyperparameters (e.g. learning rate and regularisation strength)?  (**2 marks; 0.5 for each model in each task**).\n",
    "- After training the LR models, plot the learning process (i.e. training and validation loss in each epoch) using a line plot (**1 mark; 0.5 for both BOW-count and BOW-tfidf LR models in each task**) and discuss if your model overfits/underfits/is about right.\n",
    "- Model interpretability by showing the most important features for each class (i.e. most positive/negative weights). Give the top 10 for each class and comment on whether they make sense (if they don't you might have a bug!).  If we were to apply the classifier we've learned into a different domain such laptop reviews or restaurant reviews, do you think these features would generalise well? Can you propose what features the classifier could pick up as important in the new domain? (**2 marks; 0.5 for BOW-count and BOW-tfidf LR models respectively in each task**)\n",
    "\n",
    "\n",
    "### Data - Task 1 \n",
    "\n",
    "The data you will use for Task 1 are taken from here: [http://www.cs.cornell.edu/people/pabo/movie-review-data/](http://www.cs.cornell.edu/people/pabo/movie-review-data/) and you can find it in the `./data_sentiment` folder in CSV format:\n",
    "\n",
    "- `data_sentiment/train.csv`: contains 1,400 reviews, 700 positive (label: 1) and 700 negative (label: 0) to be used for training.\n",
    "- `data_sentiment/dev.csv`: contains 200 reviews, 100 positive and 100 negative to be used for hyperparameter selection and monitoring the training process.\n",
    "- `data_sentiment/test.csv`: contains 400 reviews, 200 positive and 200 negative to be used for testing.\n",
    "\n",
    "### Data - Task 2\n",
    "\n",
    "The data you will use for Task 2 is a subset of the [AG News Corpus](http://groups.di.unipi.it/~gulli/AG_corpus_of_news_articles.html) and you can find it in the `./data_topic` folder in CSV format:\n",
    "\n",
    "- `data_topic/train.csv`: contains 2,400 news articles, 800 for each class to be used for training.\n",
    "- `data_topic/dev.csv`: contains 150 news articles, 50 for each class to be used for hyperparameter selection and monitoring the training process.\n",
    "- `data_topic/test.csv`: contains 900 news articles, 300 for each class to be used for testing.\n",
    "\n",
    "\n",
    "### Submission Instructions\n",
    "\n",
    "You should submit a Jupyter Notebook file (assignment1.ipynb) and an exported PDF version (you can do it from Jupyter: `File->Download as->PDF via Latex`).\n",
    "\n",
    "You are advised to follow the code structure given in this notebook by completing all given funtions. You can also write any auxilliary/helper functions (and arguments for the functions) that you might need but note that you can provide a full solution without any such functions. Similarly, you can just use only the packages imported below but you are free to use any functionality from the [Python Standard Library](https://docs.python.org/2/library/index.html), NumPy, SciPy and Pandas. You are not allowed to use any third-party library such as Scikit-learn (apart from metric functions already provided), NLTK, Spacy, Keras etc..\n",
    "\n",
    "Please make sure to comment your code. You should also mention if you've used Windows (not recommended) to write and test your code. There is no single correct answer on what your accuracy should be, but correct implementations usually achieve F1-scores around 80\\% or higher. The quality of the analysis of the results is as important as the accuracy itself. \n",
    "\n",
    "This assignment will be marked out of 20. It is worth 20\\% of your final grade in the module.\n",
    "\n",
    "The deadline for this assignment is **23:59 on Fri, 20 Mar 2020** and it needs to be submitted via MOLE. Standard departmental penalties for lateness will be applied. We use a range of strategies to detect [unfair means](https://www.sheffield.ac.uk/ssid/unfair-means/index), including Turnitin which helps detect plagiarism, so make sure you do not plagiarise.\n",
    "\n"
   ]
  },
  {
   "cell_type": "markdown",
   "metadata": {},
   "source": [
    "## Load Raw texts and labels into arrays\n",
    "\n",
    "First, you need to load the training, development and test sets from their corresponding CSV files (tip: you can use Pandas dataframes)."
   ]
  },
  {
   "cell_type": "code",
   "execution_count": 1,
   "metadata": {
    "ExecuteTime": {
     "end_time": "2020-02-15T14:31:36.292691Z",
     "start_time": "2020-02-15T14:31:35.549108Z"
    }
   },
   "outputs": [],
   "source": [
    "import pandas as pd\n",
    "import numpy as np\n",
    "import random\n",
    "import re\n",
    "import timeit\n",
    "import matplotlib.pyplot as plt\n",
    "from collections import Counter\n",
    "from sklearn.metrics import accuracy_score, precision_score, recall_score, f1_score\n",
    "from math import log\n",
    "\n",
    "# fixing random seed for reproducibility\n",
    "random.seed(123)\n",
    "np.random.seed(123)\n"
   ]
  },
  {
   "cell_type": "code",
   "execution_count": 2,
   "metadata": {
    "ExecuteTime": {
     "end_time": "2020-02-15T14:17:28.145788Z",
     "start_time": "2020-02-15T14:17:28.066100Z"
    }
   },
   "outputs": [],
   "source": [
    "# Throughout the assignment, I will denote variables associated with 2\n",
    "# with 2 at the end of the variable name.\n",
    "\n",
    "# Task 1 data sets\n",
    "train_set1 = pd.read_csv('./data_sentiment/train.csv', header = None, names = ['text', 'label'])\n",
    "test_set1 = pd.read_csv('./data_sentiment/test.csv', header = None, names = ['text', 'label'])\n",
    "dev_set1 = pd.read_csv('./data_sentiment/dev.csv', header = None, names = ['text', 'label'])\n",
    "\n",
    "# Task 2 data sets\n",
    "train_set2 = pd.read_csv('./data_topic/train.csv', header = None, names = ['label', 'text'])\n",
    "test_set2 = pd.read_csv('./data_topic/test.csv', header = None, names = ['label', 'text'])\n",
    "dev_set2 = pd.read_csv('./data_topic/dev.csv', header = None, names = ['label', 'text'])\n",
    "\n"
   ]
  },
  {
   "cell_type": "markdown",
   "metadata": {},
   "source": [
    "If you use Pandas you can see a sample of the data."
   ]
  },
  {
   "cell_type": "code",
   "execution_count": 3,
   "metadata": {},
   "outputs": [
    {
     "data": {
      "text/html": [
       "<div>\n",
       "<style scoped>\n",
       "    .dataframe tbody tr th:only-of-type {\n",
       "        vertical-align: middle;\n",
       "    }\n",
       "\n",
       "    .dataframe tbody tr th {\n",
       "        vertical-align: top;\n",
       "    }\n",
       "\n",
       "    .dataframe thead th {\n",
       "        text-align: right;\n",
       "    }\n",
       "</style>\n",
       "<table border=\"1\" class=\"dataframe\">\n",
       "  <thead>\n",
       "    <tr style=\"text-align: right;\">\n",
       "      <th></th>\n",
       "      <th>label</th>\n",
       "      <th>text</th>\n",
       "    </tr>\n",
       "  </thead>\n",
       "  <tbody>\n",
       "    <tr>\n",
       "      <th>45</th>\n",
       "      <td>1</td>\n",
       "      <td>AP - Vice President Dick Cheney said Tuesday t...</td>\n",
       "    </tr>\n",
       "    <tr>\n",
       "      <th>46</th>\n",
       "      <td>1</td>\n",
       "      <td>Baghdad, Sept. 8 (NNN): Bloody clashes on Tues...</td>\n",
       "    </tr>\n",
       "    <tr>\n",
       "      <th>47</th>\n",
       "      <td>1</td>\n",
       "      <td>DUBAI/PARIS (Reuters) - The French government...</td>\n",
       "    </tr>\n",
       "    <tr>\n",
       "      <th>48</th>\n",
       "      <td>1</td>\n",
       "      <td>NEW YORK - Investors were unmoved by Federal R...</td>\n",
       "    </tr>\n",
       "    <tr>\n",
       "      <th>49</th>\n",
       "      <td>1</td>\n",
       "      <td>Bandar Seri Begawan - Bruneis Royal Wedding be...</td>\n",
       "    </tr>\n",
       "    <tr>\n",
       "      <th>50</th>\n",
       "      <td>2</td>\n",
       "      <td>LONDON, England -- Andrew Symonds rode his luc...</td>\n",
       "    </tr>\n",
       "    <tr>\n",
       "      <th>51</th>\n",
       "      <td>2</td>\n",
       "      <td>For most tennis players, having about the same...</td>\n",
       "    </tr>\n",
       "    <tr>\n",
       "      <th>52</th>\n",
       "      <td>2</td>\n",
       "      <td>AP - It was the surest sign that the Kobe Brya...</td>\n",
       "    </tr>\n",
       "    <tr>\n",
       "      <th>53</th>\n",
       "      <td>2</td>\n",
       "      <td>AP - Drew Tate threw two touchdowns in his fir...</td>\n",
       "    </tr>\n",
       "    <tr>\n",
       "      <th>54</th>\n",
       "      <td>2</td>\n",
       "      <td>Brian Kerr took his Ireland squad to the dogs ...</td>\n",
       "    </tr>\n",
       "  </tbody>\n",
       "</table>\n",
       "</div>"
      ],
      "text/plain": [
       "    label                                               text\n",
       "45      1  AP - Vice President Dick Cheney said Tuesday t...\n",
       "46      1  Baghdad, Sept. 8 (NNN): Bloody clashes on Tues...\n",
       "47      1   DUBAI/PARIS (Reuters) - The French government...\n",
       "48      1  NEW YORK - Investors were unmoved by Federal R...\n",
       "49      1  Bandar Seri Begawan - Bruneis Royal Wedding be...\n",
       "50      2  LONDON, England -- Andrew Symonds rode his luc...\n",
       "51      2  For most tennis players, having about the same...\n",
       "52      2  AP - It was the surest sign that the Kobe Brya...\n",
       "53      2  AP - Drew Tate threw two touchdowns in his fir...\n",
       "54      2  Brian Kerr took his Ireland squad to the dogs ..."
      ]
     },
     "execution_count": 3,
     "metadata": {},
     "output_type": "execute_result"
    }
   ],
   "source": [
    "dev_set2[45:55]"
   ]
  },
  {
   "cell_type": "markdown",
   "metadata": {},
   "source": [
    "The next step is to put the raw texts into Python lists and their corresponding labels into NumPy arrays:\n"
   ]
  },
  {
   "cell_type": "code",
   "execution_count": 4,
   "metadata": {
    "ExecuteTime": {
     "end_time": "2020-02-15T14:17:31.115577Z",
     "start_time": "2020-02-15T14:17:31.108038Z"
    }
   },
   "outputs": [],
   "source": [
    "# Task 1 label array and raw text list definitions\n",
    "\n",
    "Y_tr = np.array(train_set1['label'])\n",
    "Y_test = np.array(test_set1['label'])\n",
    "Y_dev = np.array(dev_set1['label'])\n",
    "\n",
    "train_text1 = [text for text in train_set1['text']]\n",
    "test_text1 = [text for text in test_set1['text']]\n",
    "dev_text1 = [text for text in dev_set1['text']]\n",
    "\n",
    "# Task 2 label array and raw text list definitions\n",
    "\n",
    "Y_tr2 = np.array(train_set2['label'])\n",
    "Y_test2 = np.array(test_set2['label'])\n",
    "Y_dev2 = np.array(dev_set2['label'])\n",
    "\n",
    "train_text2 = [text for text in train_set2['text']]\n",
    "test_text2 = [text for text in test_set2['text']]\n",
    "dev_text2 = [text for text in dev_set2['text']]"
   ]
  },
  {
   "cell_type": "markdown",
   "metadata": {},
   "source": [
    "# Bag-of-Words Representation \n",
    "\n",
    "\n",
    "To train and test Logisitc Regression models, you first need to obtain vector representations for all documents given a vocabulary of features (unigrams, bigrams, trigrams).\n",
    "\n",
    "\n",
    "## Text Pre-Processing Pipeline\n",
    "\n",
    "To obtain a vocabulary of features, you should: \n",
    "- **tokenise** all texts into a list of unigrams (tip: using a regular expression) \n",
    "- remove **stop words** (using the one provided or one of your preference) \n",
    "- compute bigrams, trigrams given the remaining unigrams\n",
    "- **remove ngrams appearing in less than K documents**\n",
    "- use the remaining to create a vocabulary of unigrams, bigrams and trigrams (you can keep top N if you encounter memory issues).\n"
   ]
  },
  {
   "cell_type": "code",
   "execution_count": 5,
   "metadata": {
    "ExecuteTime": {
     "end_time": "2020-02-15T14:17:31.860420Z",
     "start_time": "2020-02-15T14:17:31.855439Z"
    }
   },
   "outputs": [],
   "source": [
    "stop_words = ['a','in','on','at','and','or', \n",
    "              'to', 'the', 'of', 'an', 'by', \n",
    "              'as', 'is', 'was', 'were', 'been', 'be', \n",
    "              'are','for', 'this', 'that', 'these', 'those', 'you', 'i',\n",
    "             'it', 'he', 'she', 'we', 'they', 'will', 'have', 'has',\n",
    "              'do', 'did', 'can', 'could', 'who', 'which', 'what', \n",
    "             'his', 'her', 'they', 'them', 'from', 'with', 'its', 'is', 'The']"
   ]
  },
  {
   "cell_type": "markdown",
   "metadata": {},
   "source": [
    "### N-gram extraction from a document\n",
    "\n",
    "You first need to implement the `extract_ngrams` function. It takes as input:\n",
    "- `x_raw`: a string corresponding to the raw text of a document\n",
    "- `ngram_range`: a tuple of two integers denoting the type of ngrams you want to extract, e.g. (1,2) denotes extracting unigrams and bigrams.\n",
    "- `token_pattern`: a string to be used within a regular expression to extract all tokens. Note that data is already tokenised so you could opt for a simple white space tokenisation.\n",
    "- `stop_words`: a list of stop words\n",
    "- `vocab`: a given vocabulary. It should be used to extract specific features.\n",
    "\n",
    "and returns:\n",
    "\n",
    "- a list of all extracted features.\n",
    "\n",
    "See the examples below to see how this function should work."
   ]
  },
  {
   "cell_type": "code",
   "execution_count": 6,
   "metadata": {
    "ExecuteTime": {
     "end_time": "2020-02-15T14:17:33.169090Z",
     "start_time": "2020-02-15T14:17:33.161268Z"
    }
   },
   "outputs": [],
   "source": [
    "# Function to extract ngrams of one length n\n",
    "\n",
    "def ngrams(x_raw, n=3, token_pattern=r'\\b[A-Za-z][A-Za-z]+\\b', stop_words=[]):\n",
    "   \n",
    "    x_list = re.findall(token_pattern, x_raw)               \n",
    "    unigrams = [word for word in x_list if word not in stop_words]\n",
    "    ngrams = [tuple(unigrams[i:i+n]) for i in range(len(unigrams)-n+1)]\n",
    "    \n",
    "    return ngrams\n",
    "\n",
    "# Extract ngrams which uses previous function to get ngrams of all numbers up to n\n",
    "\n",
    "def extract_ngrams(x_raw, n=3, token_pattern=r'\\b[A-Za-z][A-Za-z]+\\b', stop_words=[], vocab=set()):\n",
    "    all_ngrams = []\n",
    "    for i in range(1, n+1):\n",
    "        ngrams_i = ngrams(x_raw, n=i, token_pattern=token_pattern, stop_words=stop_words)\n",
    "        for x in ngrams_i:\n",
    "            ngram = ' '.join(x)\n",
    "            all_ngrams.append(ngram)\n",
    "            \n",
    "    if vocab != set():\n",
    "        all_ngrams = vocab\n",
    "        \n",
    "    return all_ngrams"
   ]
  },
  {
   "cell_type": "code",
   "execution_count": 7,
   "metadata": {},
   "outputs": [
    {
     "data": {
      "text/plain": [
       "['great', 'movie', 'watch', 'great movie', 'movie watch', 'great movie watch']"
      ]
     },
     "execution_count": 7,
     "metadata": {},
     "output_type": "execute_result"
    }
   ],
   "source": [
    "extract_ngrams(x_raw = \"this is a great movie to the watch the\", stop_words=stop_words)"
   ]
  },
  {
   "cell_type": "markdown",
   "metadata": {},
   "source": [
    "Note that it is OK to represent n-grams using lists instead of tuples: e.g. `['great', ['great', 'movie']]`"
   ]
  },
  {
   "cell_type": "markdown",
   "metadata": {},
   "source": [
    "### Create a vocabulary of n-grams\n",
    "\n",
    "Then the `get_vocab` function will be used to (1) create a vocabulary of ngrams; (2) count the document frequencies of ngrams; (3) their raw frequency. It takes as input:\n",
    "- `X_raw`: a list of strings each corresponding to the raw text of a document\n",
    "- `ngram_range`: a tuple of two integers denoting the type of ngrams you want to extract, e.g. (1,2) denotes extracting unigrams and bigrams.\n",
    "- `token_pattern`: a string to be used within a regular expression to extract all tokens. Note that data is already tokenised so you could opt for a simple white space tokenisation.\n",
    "- `stop_words`: a list of stop words\n",
    "- `min_df`: keep ngrams with a minimum document frequency.\n",
    "- `keep_topN`: keep top-N more frequent ngrams.\n",
    "\n",
    "and returns:\n",
    "\n",
    "- `vocab`: a set of the n-grams that will be used as features.\n",
    "- `df`: a Counter (or dict) that contains ngrams as keys and their corresponding document frequency as values.\n",
    "- `ngram_counts`: counts of each ngram in vocab\n",
    "\n",
    "Hint: it should make use of the `extract_ngrams` function."
   ]
  },
  {
   "cell_type": "code",
   "execution_count": 8,
   "metadata": {
    "ExecuteTime": {
     "end_time": "2020-02-15T14:17:35.821240Z",
     "start_time": "2020-02-15T14:17:35.814722Z"
    }
   },
   "outputs": [],
   "source": [
    "def get_vocab(X_raw, n=3, token_pattern=r'\\b[A-Za-z][A-Za-z]+\\b', min_df=0, keep_topN=0, stop_words=[]):\n",
    "    # Dictionaries for term frquency and document frequency\n",
    "    df = {}\n",
    "    tf = {}\n",
    "    for text in X_raw:\n",
    "        ngrams = extract_ngrams(text, n=n, token_pattern=token_pattern, stop_words=stop_words) # To populate tf\n",
    "        ngrams_unique = set(ngrams) # To populate df\n",
    "        \n",
    "        for ngram in ngrams_unique:\n",
    "            if ngram in df:\n",
    "                df[ngram] += 1\n",
    "            else:\n",
    "                df[ngram] = 1\n",
    "\n",
    "        for ngram in ngrams:\n",
    "            if ngram in tf:\n",
    "                tf[ngram] += 1\n",
    "            else:\n",
    "                tf[ngram] = 1\n",
    "    \n",
    "    \n",
    "    for ngram, count in df.items():\n",
    "        if count < min_df:\n",
    "            df.pop(ngram)\n",
    "            tf.pop(ngram)\n",
    "    \n",
    "    if keep_topN != 0:\n",
    "        #df = dict(Counter(df).most_common(keep_topN))\n",
    "        tf = dict(Counter(tf).most_common(keep_topN))\n",
    "    \n",
    "    for ngram in list(df.keys()):\n",
    "        if ngram not in tf.keys():\n",
    "            df.pop(ngram)\n",
    "    \n",
    "    vocab = set(tf.keys())\n",
    "    ngram_counts = list(tf.values())    \n",
    "    \n",
    "    return vocab, df, ngram_counts\n",
    "\n",
    "# list.sort() sorts any list of strings into alphabetical order"
   ]
  },
  {
   "cell_type": "code",
   "execution_count": 9,
   "metadata": {},
   "outputs": [],
   "source": [
    "# Testing function with small data.\n",
    "# X_raw = [\"great movie Ruaridh great movie\",\n",
    "#          \"have never watched is movie the\",\n",
    "#          \"today Ruaridh watched movie dinner today\"]\n",
    "\n",
    "# get_vocab(X_raw, keep_topN = 20)"
   ]
  },
  {
   "cell_type": "markdown",
   "metadata": {},
   "source": [
    "Now you should use `get_vocab` to create your vocabulary and get document and raw frequencies of n-grams:"
   ]
  },
  {
   "cell_type": "code",
   "execution_count": 10,
   "metadata": {
    "ExecuteTime": {
     "end_time": "2020-02-15T14:17:39.319793Z",
     "start_time": "2020-02-15T14:17:36.836545Z"
    }
   },
   "outputs": [
    {
     "name": "stdout",
     "output_type": "stream",
     "text": [
      "5000\n",
      "\n",
      "['tell', 'past', 'carrie', 'south', 'connected', 'reads', 'sequels', 'visuals', 'answer', 'replaced', 'mature', 'cannot', 'wes', 'kilmer', 'fighter', 'marshall', 'indiana', 'delight', 'stone', 'cuba', 'see film', 'advice', 'more time', 'reveals', 'reading', 'client', 'gross', 'master', 'shame', 'film festival', 'enjoyable', 'black cauldron', 'eight', 'sympathy', 'film just', 'many people', 'wahlberg', 'hitchcock', 'refuses', 'fifth', 'imagery', 'sort', 'max', 'nearby', 'abandoned', 'episodes', 'guest', 'high school', 'alien', 'terry']\n",
      "\n",
      "[('but', 1334), ('one', 1247), ('film', 1231), ('not', 1170), ('all', 1117), ('movie', 1095), ('out', 1080), ('so', 1047), ('there', 1046), ('like', 1043)]\n"
     ]
    }
   ],
   "source": [
    "vocab, df, ngram_counts = get_vocab(train_text1, n=3, keep_topN=5000, stop_words=stop_words)\n",
    "print(len(vocab))\n",
    "print()\n",
    "print(list(vocab)[:50])\n",
    "print()\n",
    "print(Counter(df).most_common()[:10])"
   ]
  },
  {
   "cell_type": "markdown",
   "metadata": {},
   "source": [
    "Then, you need to create vocabulary id -> word and id -> word dictionaries for reference:"
   ]
  },
  {
   "cell_type": "code",
   "execution_count": 11,
   "metadata": {},
   "outputs": [],
   "source": [
    "vocab_id = {i:list(vocab)[i] for i in range(len(vocab))}"
   ]
  },
  {
   "cell_type": "markdown",
   "metadata": {},
   "source": [
    "Now you should be able to extract n-grams for each text in the training, development and test sets:"
   ]
  },
  {
   "cell_type": "code",
   "execution_count": 12,
   "metadata": {
    "ExecuteTime": {
     "end_time": "2020-02-15T14:17:40.213253Z",
     "start_time": "2020-02-15T14:17:39.329147Z"
    }
   },
   "outputs": [],
   "source": [
    "vocab_test, df_test, ngram_counts_test = get_vocab(test_text1, n=3, keep_topN=5000, stop_words=stop_words)\n",
    "vocab_dev, df_dev, ngram_counts_dev = get_vocab(dev_text1, n=3, keep_topN=5000, stop_words=stop_words)\n"
   ]
  },
  {
   "cell_type": "markdown",
   "metadata": {},
   "source": [
    "## Vectorise documents "
   ]
  },
  {
   "cell_type": "markdown",
   "metadata": {},
   "source": [
    "Next, write a function `vectoriser` to obtain Bag-of-ngram representations for a list of documents. The function should take as input:\n",
    "- `X_ngram`: a list of texts (documents), where each text is represented as list of n-grams in the `vocab`\n",
    "- `vocab`: a set of n-grams to be used for representing the documents\n",
    "\n",
    "and return:\n",
    "- `X_vec`: an array with dimensionality Nx|vocab| where N is the number of documents and |vocab| is the size of the vocabulary. Each element of the array should represent the frequency of a given n-gram in a document.\n"
   ]
  },
  {
   "cell_type": "code",
   "execution_count": 13,
   "metadata": {
    "ExecuteTime": {
     "end_time": "2020-02-15T14:17:40.219201Z",
     "start_time": "2020-02-15T14:17:40.215129Z"
    }
   },
   "outputs": [],
   "source": [
    "# First create function that returns X_ngram\n",
    "\n",
    "def extract_X_ngram(data):\n",
    "    X_ngram = []\n",
    "    for text in data:\n",
    "        ngrams = list(extract_ngrams(text, stop_words=stop_words))\n",
    "        X_ngram.append(ngrams)\n",
    "    return X_ngram\n",
    "\n",
    "def vectorise(X_ngram, vocab):\n",
    "    X_vec = np.zeros([len(X_ngram), len(vocab)])\n",
    "    i=0    \n",
    "    for doc in X_ngram:\n",
    "        doc_counter = Counter(doc)\n",
    "        for id, ngram in vocab_id.items():\n",
    "            X_vec[i][id] = doc_counter[ngram] \n",
    "        i+=1\n",
    "    return X_vec"
   ]
  },
  {
   "cell_type": "markdown",
   "metadata": {},
   "source": [
    "Finally, use `vectorise` to obtain document vectors for each document in the train, development and test set. You should extract both count and tf.idf vectors respectively:"
   ]
  },
  {
   "cell_type": "markdown",
   "metadata": {},
   "source": [
    "#### Count vectors"
   ]
  },
  {
   "cell_type": "code",
   "execution_count": 14,
   "metadata": {},
   "outputs": [],
   "source": [
    "X_tr = extract_X_ngram(train_text1)\n",
    "X_tr_count = vectorise(X_tr, vocab)\n",
    "\n",
    "X_test = extract_X_ngram(test_text1)\n",
    "X_test_count = vectorise(X_test, vocab)\n",
    "\n",
    "X_dev = extract_X_ngram(dev_text1)\n",
    "X_dev_count = vectorise(X_dev, vocab)"
   ]
  },
  {
   "cell_type": "markdown",
   "metadata": {},
   "source": [
    "#### TF.IDF vectors\n",
    "\n",
    "First compute `idfs` an array containing inverted document frequencies (Note: its elements should correspond to your `vocab`)"
   ]
  },
  {
   "cell_type": "code",
   "execution_count": 15,
   "metadata": {
    "ExecuteTime": {
     "end_time": "2020-02-15T14:17:42.022692Z",
     "start_time": "2020-02-15T14:17:42.012315Z"
    }
   },
   "outputs": [],
   "source": [
    "# Create a list of the idf values for each word by iterating over document frequencies\n",
    "\n",
    "df_counts = list(df.values())\n",
    "\n",
    "idf = [log(len(X_tr)/i) for i in df_counts]\n",
    "idf_test = [log(len(X_test)/i) for i in df_counts]\n",
    "idf_dev = [log(len(X_dev)/i) for i in df_counts]"
   ]
  },
  {
   "cell_type": "markdown",
   "metadata": {},
   "source": [
    "Then transform your count vectors to tf.idf vectors:"
   ]
  },
  {
   "cell_type": "code",
   "execution_count": 16,
   "metadata": {
    "ExecuteTime": {
     "end_time": "2020-02-15T14:17:42.802265Z",
     "start_time": "2020-02-15T14:17:42.752448Z"
    }
   },
   "outputs": [],
   "source": [
    "# Populate each row of the tfidf array by using the count array multiplied by the appropriate idf value\n",
    "\n",
    "X_tr_tfidf = np.zeros(X_tr_count.shape)\n",
    "X_test_tfidf = np.zeros(X_test_count.shape)\n",
    "X_dev_tfidf = np.zeros(X_dev_count.shape)\n",
    "\n",
    "for i in range(len(X_tr_count)):\n",
    "    X_tr_tfidf[i] = X_tr_count[i]*idf\n",
    "    \n",
    "for i in range(len(X_test_count)):\n",
    "    X_test_tfidf[i] = X_test_count[i]*idf_test\n",
    "    \n",
    "for i in range(len(X_dev_count)):\n",
    "    X_dev_tfidf[i] = X_dev_count[i]*idf_dev"
   ]
  },
  {
   "cell_type": "markdown",
   "metadata": {},
   "source": [
    "# Binary Logistic Regression\n",
    "\n",
    "After obtaining vector representations of the data, now you are ready to implement Binary Logistic Regression for classifying sentiment."
   ]
  },
  {
   "cell_type": "markdown",
   "metadata": {},
   "source": [
    "First, you need to implement the `sigmoid` function. It takes as input:\n",
    "\n",
    "- `z`: a real number or an array of real numbers \n",
    "\n",
    "and returns:\n",
    "\n",
    "- `sig`: the sigmoid of `z`"
   ]
  },
  {
   "cell_type": "code",
   "execution_count": 17,
   "metadata": {
    "ExecuteTime": {
     "end_time": "2020-02-15T14:17:44.160661Z",
     "start_time": "2020-02-15T14:17:44.157902Z"
    }
   },
   "outputs": [],
   "source": [
    "def sigmoid(z):\n",
    "    sig = 1 / (1 + np.exp(-z))\n",
    "    return sig"
   ]
  },
  {
   "cell_type": "code",
   "execution_count": 18,
   "metadata": {
    "ExecuteTime": {
     "end_time": "2020-02-15T14:17:44.351292Z",
     "start_time": "2020-02-15T14:17:44.346822Z"
    }
   },
   "outputs": [
    {
     "name": "stdout",
     "output_type": "stream",
     "text": [
      "0.5\n",
      "[0.00669285 0.76852478]\n"
     ]
    }
   ],
   "source": [
    "print(sigmoid(0)) \n",
    "print(sigmoid(np.array([-5., 1.2])))"
   ]
  },
  {
   "cell_type": "markdown",
   "metadata": {},
   "source": [
    "Then, implement the `predict_proba` function to obtain prediction probabilities. It takes as input:\n",
    "\n",
    "- `X`: an array of inputs, i.e. documents represented by bag-of-ngram vectors ($N \\times |vocab|$)\n",
    "- `weights`: a 1-D array of the model's weights $(1, |vocab|)$\n",
    "\n",
    "and returns:\n",
    "\n",
    "- `preds_proba`: the prediction probabilities of X given the weights"
   ]
  },
  {
   "cell_type": "code",
   "execution_count": 19,
   "metadata": {
    "ExecuteTime": {
     "end_time": "2020-02-15T14:17:44.718566Z",
     "start_time": "2020-02-15T14:17:44.715017Z"
    }
   },
   "outputs": [],
   "source": [
    "def predict_proba(X, weights):\n",
    "    z = np.dot(X, weights)\n",
    "    preds_proba = sigmoid(z)\n",
    "    return preds_proba"
   ]
  },
  {
   "cell_type": "code",
   "execution_count": 20,
   "metadata": {},
   "outputs": [],
   "source": [
    "#for i in X_tr_count: print(Counter(i), '\\n')"
   ]
  },
  {
   "cell_type": "markdown",
   "metadata": {},
   "source": [
    "Then, implement the `predict_class` function to obtain the most probable class for each vector in an array of input vectors. It takes as input:\n",
    "\n",
    "- `X`: an array of documents represented by bag-of-ngram vectors ($N \\times |vocab|$)\n",
    "- `weights`: a 1-D array of the model's weights $(1, |vocab|)$\n",
    "\n",
    "and returns:\n",
    "\n",
    "- `preds_class`: the predicted class for each x in X given the weights"
   ]
  },
  {
   "cell_type": "code",
   "execution_count": 21,
   "metadata": {
    "ExecuteTime": {
     "end_time": "2020-02-15T14:17:45.002125Z",
     "start_time": "2020-02-15T14:17:44.998668Z"
    }
   },
   "outputs": [],
   "source": [
    "def predict_class(X, weights):\n",
    "    probs = predict_proba(X, weights)\n",
    "    preds_class = [round(i+1e-15) for i in probs]\n",
    "    return np.array(preds_class)\n",
    "\n",
    "# round(i+1e-15) is used since the built in round function rounds 0.5 down to 1."
   ]
  },
  {
   "cell_type": "markdown",
   "metadata": {},
   "source": [
    "To learn the weights from data, we need to minimise the binary cross-entropy loss. Implement `binary_loss` that takes as input:\n",
    "\n",
    "- `X`: input vectors\n",
    "- `Y`: labels\n",
    "- `weights`: model weights\n",
    "- `alpha`: regularisation strength\n",
    "\n",
    "and return:\n",
    "\n",
    "- `l`: the loss score"
   ]
  },
  {
   "cell_type": "code",
   "execution_count": 22,
   "metadata": {
    "ExecuteTime": {
     "end_time": "2020-02-15T14:17:45.455533Z",
     "start_time": "2020-02-15T14:17:45.451475Z"
    }
   },
   "outputs": [],
   "source": [
    "def binary_loss(X, Y, weights, alpha=0.00001):\n",
    "    m = len(Y) # to average\n",
    "    pred = predict_proba(X, weights)\n",
    "    \n",
    "    class1 = np.dot(Y, np.log(pred + alpha)) # 0 when y = 0\n",
    "    class2 = np.dot(1-Y, np.log(1-pred + alpha)) # 0 when y = 1\n",
    "    \n",
    "    l = -np.sum(class1 + class2)/m\n",
    "    \n",
    "    return l"
   ]
  },
  {
   "cell_type": "markdown",
   "metadata": {},
   "source": [
    "Now, you can implement Stochastic Gradient Descent to learn the weights of your sentiment classifier. The `SGD` function takes as input:\n",
    "\n",
    "- `X_tr`: array of training data (vectors)\n",
    "- `Y_tr`: labels of `X_tr`\n",
    "- `X_dev`: array of development (i.e. validation) data (vectors)\n",
    "- `Y_dev`: labels of `X_dev`\n",
    "- `lr`: learning rate\n",
    "- `alpha`: regularisation strength\n",
    "- `epochs`: number of full passes over the training data\n",
    "- `tolerance`: stop training if the difference between the current and previous validation loss is smaller than a threshold\n",
    "- `print_progress`: flag for printing the training progress (train/validation loss)\n",
    "\n",
    "\n",
    "and returns:\n",
    "\n",
    "- `weights`: the weights learned\n",
    "- `training_loss_history`: an array with the average losses of the whole training set after each epoch\n",
    "- `validation_loss_history`: an array with the average losses of the whole development set after each epoch"
   ]
  },
  {
   "cell_type": "code",
   "execution_count": 23,
   "metadata": {
    "ExecuteTime": {
     "end_time": "2020-02-15T14:17:45.968510Z",
     "start_time": "2020-02-15T14:17:45.958185Z"
    }
   },
   "outputs": [],
   "source": [
    "def SGD(X_tr, Y_tr, X_dev=[], Y_dev=[], lr=0.1, alpha=0.00001, epochs=5, tolerance=0.0001, print_progress=True):\n",
    "    \n",
    "    training_loss_history = []\n",
    "    validation_loss_history = []\n",
    "    w = np.zeros(X_tr[0].shape)\n",
    "    \n",
    "    # Parallel iteration of X and Y\n",
    "    for epoch in range(epochs):\n",
    "        # Shuffle X, y and vocab using same permutation\n",
    "        perm = np.random.permutation(len(Y_tr))\n",
    "        X_tr, Y_tr = X_tr[perm], Y_tr[perm]\n",
    "        for row, label in zip(X_tr, Y_tr):\n",
    "            pred = predict_proba(row, w)\n",
    "            dl_dw = row*(pred - label) + 2*alpha*w\n",
    "            w -= lr*dl_dw\n",
    "            l = binary_loss(X_tr, Y_tr, w, alpha)\n",
    "            l_val = binary_loss(X_dev, Y_dev, w, alpha)\n",
    "        training_loss_history.append(l)\n",
    "        validation_loss_history.append(l_val)\n",
    "        \n",
    "        if print_progress == True:\n",
    "            print('Epoch {0} | Train loss: {1:3f} | Val loss: {2:3f}'.format(epoch+1, l, l_val))\n",
    "\n",
    "        if epoch > 0 and (validation_loss_history[epoch-1] - validation_loss_history[epoch]) < tolerance:\n",
    "             break\n",
    "\n",
    "    return w, training_loss_history, validation_loss_history"
   ]
  },
  {
   "cell_type": "markdown",
   "metadata": {},
   "source": [
    "## Train and Evaluate Logistic Regression with Count vectors\n",
    "\n",
    "First train the model using SGD:"
   ]
  },
  {
   "cell_type": "code",
   "execution_count": 27,
   "metadata": {
    "ExecuteTime": {
     "end_time": "2020-02-15T14:17:51.480197Z",
     "start_time": "2020-02-15T14:17:46.362729Z"
    },
    "scrolled": true
   },
   "outputs": [],
   "source": [
    "w_count, loss_tr_count, loss_dev_count = SGD(X_tr_count, Y_tr, X_dev=X_dev_count, Y_dev=Y_dev,\n",
    "                                            lr=0.0001, alpha=0.001, epochs=100, print_progress=False)"
   ]
  },
  {
   "cell_type": "markdown",
   "metadata": {},
   "source": [
    "Now plot the training and validation history per epoch. Does your model underfit, overfit or is it about right? Explain why."
   ]
  },
  {
   "cell_type": "code",
   "execution_count": 28,
   "metadata": {},
   "outputs": [
    {
     "data": {
      "text/plain": [
       "<matplotlib.legend.Legend at 0x244bd7922e8>"
      ]
     },
     "execution_count": 28,
     "metadata": {},
     "output_type": "execute_result"
    },
    {
     "data": {
      "image/png": "[encoded data removed]",
      "text/plain": [
       "<Figure size 432x288 with 1 Axes>"
      ]
     },
     "metadata": {
      "needs_background": "light"
     },
     "output_type": "display_data"
    }
   ],
   "source": [
    "epochs = len(loss_tr_count)\n",
    "plt.plot(list(range(epochs)), loss_tr_count, label = 'Training loss')\n",
    "plt.plot(list(range(epochs)), loss_dev_count, label = 'Validation loss')\n",
    "plt.xlabel('Epoch')\n",
    "plt.ylabel('Loss')\n",
    "plt.title('Training History')\n",
    "plt.legend()"
   ]
  },
  {
   "cell_type": "markdown",
   "metadata": {},
   "source": [
    "#### Explanation\n",
    "My model overfits since it fails to generalise to the validation set. We know this because the predictions made for the training data are significantly more accurate than the validation data, which is visualised on the plot. The validation loss curve appears to flatten whilst the training loss continues to fall after each epoch. The regularisation parameter was increased to try and combat this."
   ]
  },
  {
   "cell_type": "markdown",
   "metadata": {},
   "source": [
    "Compute accuracy, precision, recall and F1-scores:"
   ]
  },
  {
   "cell_type": "code",
   "execution_count": 29,
   "metadata": {},
   "outputs": [],
   "source": [
    "preds_test_count = predict_class(X_test_count, w_count)"
   ]
  },
  {
   "cell_type": "code",
   "execution_count": 30,
   "metadata": {
    "ExecuteTime": {
     "end_time": "2020-02-15T14:37:40.569499Z",
     "start_time": "2020-02-15T14:37:40.566796Z"
    }
   },
   "outputs": [
    {
     "name": "stdout",
     "output_type": "stream",
     "text": [
      "Accuracy: 0.8325\n",
      "Precision: 0.824390243902439\n",
      "Recall: 0.845\n",
      "F1-Score: 0.8345679012345678\n"
     ]
    }
   ],
   "source": [
    "# fill in your code...\n",
    "print('Accuracy:', accuracy_score(Y_test,preds_test_count))\n",
    "print('Precision:', precision_score(Y_test,preds_test_count))\n",
    "print('Recall:', recall_score(Y_test,preds_test_count))\n",
    "print('F1-Score:', f1_score(Y_test,preds_test_count))"
   ]
  },
  {
   "cell_type": "markdown",
   "metadata": {},
   "source": [
    "Finally, print the top-10 words for the negative and positive class respectively."
   ]
  },
  {
   "cell_type": "code",
   "execution_count": 31,
   "metadata": {},
   "outputs": [
    {
     "data": {
      "text/plain": [
       "['movies',\n",
       " 'world',\n",
       " 'both',\n",
       " 'also',\n",
       " 'many',\n",
       " 'fun',\n",
       " 'great',\n",
       " 'seen',\n",
       " 'well',\n",
       " 'life']"
      ]
     },
     "execution_count": 31,
     "metadata": {},
     "output_type": "execute_result"
    }
   ],
   "source": [
    "pos_index = np.argpartition(w_count, -10)[-10:]\n",
    "top10pos = [vocab_id[i] for i in pos_index]\n",
    "top10pos"
   ]
  },
  {
   "cell_type": "code",
   "execution_count": 32,
   "metadata": {
    "ExecuteTime": {
     "end_time": "2020-02-15T14:37:08.381103Z",
     "start_time": "2020-02-15T14:37:08.378641Z"
    }
   },
   "outputs": [
    {
     "data": {
      "text/plain": [
       "['worst',\n",
       " 'boring',\n",
       " 'only',\n",
       " 'script',\n",
       " 'bad',\n",
       " 'unfortunately',\n",
       " 'why',\n",
       " 'any',\n",
       " 'plot',\n",
       " 'nothing']"
      ]
     },
     "execution_count": 32,
     "metadata": {},
     "output_type": "execute_result"
    }
   ],
   "source": [
    "neg_index = np.argpartition(w_count, 10)[:10]\n",
    "top10neg = [vocab_id[i] for i in neg_index]   \n",
    "top10neg"
   ]
  },
  {
   "cell_type": "markdown",
   "metadata": {},
   "source": [
    "#### If we were to apply the classifier we've learned into a different domain such laptop reviews or restaurant reviews, do you think these features would generalise well? Can you propose what features the classifier could pick up as important in the new domain?\n"
   ]
  },
  {
   "cell_type": "markdown",
   "metadata": {},
   "source": [
    "All ngrams expressing objective sentiment would be useful as features to classify a review. For example 'great', 'boring' and 'fun'. These words would work in a different domain. Words like 'many', where the sentiment is contextual or subjective would not generalise to different domains very well. For example, 'only' Windows 7 for a laptop would be classified as negative but a 'only' £1 corking fee at the restaurant would be classified as positive. For that reason, if we used the same features for a different domain I don't think it would generalise as well."
   ]
  },
  {
   "cell_type": "markdown",
   "metadata": {},
   "source": [
    "## Train and Evaluate Logistic Regression with TF.IDF vectors\n",
    "\n",
    "Follow the same steps as above (i.e. evaluating count n-gram representations).\n"
   ]
  },
  {
   "cell_type": "code",
   "execution_count": 33,
   "metadata": {
    "ExecuteTime": {
     "end_time": "2020-02-15T14:17:54.414637Z",
     "start_time": "2020-02-15T14:17:51.625934Z"
    },
    "scrolled": true
   },
   "outputs": [
    {
     "name": "stdout",
     "output_type": "stream",
     "text": [
      "Epoch 1 | Train loss: 0.612224 | Val loss: 0.661897\n",
      "Epoch 2 | Train loss: 0.563750 | Val loss: 0.640820\n",
      "Epoch 3 | Train loss: 0.527255 | Val loss: 0.628350\n",
      "Epoch 4 | Train loss: 0.497606 | Val loss: 0.615468\n",
      "Epoch 5 | Train loss: 0.473010 | Val loss: 0.603989\n",
      "Epoch 6 | Train loss: 0.453124 | Val loss: 0.595426\n",
      "Epoch 7 | Train loss: 0.435796 | Val loss: 0.587308\n",
      "Epoch 8 | Train loss: 0.420905 | Val loss: 0.579911\n",
      "Epoch 9 | Train loss: 0.407370 | Val loss: 0.575017\n",
      "Epoch 10 | Train loss: 0.395020 | Val loss: 0.569094\n",
      "Epoch 11 | Train loss: 0.383862 | Val loss: 0.563073\n",
      "Epoch 12 | Train loss: 0.373840 | Val loss: 0.559188\n",
      "Epoch 13 | Train loss: 0.364423 | Val loss: 0.553462\n",
      "Epoch 14 | Train loss: 0.357258 | Val loss: 0.552199\n",
      "Epoch 15 | Train loss: 0.347605 | Val loss: 0.546967\n",
      "Epoch 16 | Train loss: 0.341592 | Val loss: 0.541707\n",
      "Epoch 17 | Train loss: 0.332685 | Val loss: 0.538888\n",
      "Epoch 18 | Train loss: 0.325831 | Val loss: 0.535682\n",
      "Epoch 19 | Train loss: 0.319733 | Val loss: 0.532460\n",
      "Epoch 20 | Train loss: 0.313283 | Val loss: 0.530288\n",
      "Epoch 21 | Train loss: 0.308580 | Val loss: 0.526581\n",
      "Epoch 22 | Train loss: 0.302012 | Val loss: 0.524559\n",
      "Epoch 23 | Train loss: 0.297592 | Val loss: 0.523747\n",
      "Epoch 24 | Train loss: 0.291751 | Val loss: 0.519790\n",
      "Epoch 25 | Train loss: 0.287079 | Val loss: 0.517343\n",
      "Epoch 26 | Train loss: 0.282429 | Val loss: 0.515224\n",
      "Epoch 27 | Train loss: 0.278051 | Val loss: 0.513865\n",
      "Epoch 28 | Train loss: 0.273930 | Val loss: 0.510778\n",
      "Epoch 29 | Train loss: 0.269721 | Val loss: 0.508955\n",
      "Epoch 30 | Train loss: 0.265620 | Val loss: 0.507550\n",
      "Epoch 31 | Train loss: 0.262013 | Val loss: 0.505313\n",
      "Epoch 32 | Train loss: 0.258196 | Val loss: 0.504396\n",
      "Epoch 33 | Train loss: 0.254623 | Val loss: 0.502694\n",
      "Epoch 34 | Train loss: 0.251472 | Val loss: 0.501611\n",
      "Epoch 35 | Train loss: 0.249627 | Val loss: 0.498598\n",
      "Epoch 36 | Train loss: 0.244577 | Val loss: 0.497760\n",
      "Epoch 37 | Train loss: 0.241682 | Val loss: 0.495838\n",
      "Epoch 38 | Train loss: 0.238416 | Val loss: 0.494766\n",
      "Epoch 39 | Train loss: 0.235503 | Val loss: 0.493655\n",
      "Epoch 40 | Train loss: 0.233175 | Val loss: 0.493089\n",
      "Epoch 41 | Train loss: 0.230036 | Val loss: 0.490526\n",
      "Epoch 42 | Train loss: 0.227125 | Val loss: 0.489539\n",
      "Epoch 43 | Train loss: 0.224521 | Val loss: 0.488495\n",
      "Epoch 44 | Train loss: 0.222073 | Val loss: 0.486832\n",
      "Epoch 45 | Train loss: 0.219773 | Val loss: 0.485637\n",
      "Epoch 46 | Train loss: 0.217108 | Val loss: 0.485216\n",
      "Epoch 47 | Train loss: 0.214649 | Val loss: 0.483635\n",
      "Epoch 48 | Train loss: 0.212321 | Val loss: 0.482677\n",
      "Epoch 49 | Train loss: 0.211296 | Val loss: 0.481400\n",
      "Epoch 50 | Train loss: 0.207876 | Val loss: 0.480508\n",
      "Epoch 51 | Train loss: 0.205784 | Val loss: 0.479883\n",
      "Epoch 52 | Train loss: 0.203625 | Val loss: 0.478730\n",
      "Epoch 53 | Train loss: 0.201555 | Val loss: 0.477759\n",
      "Epoch 54 | Train loss: 0.199793 | Val loss: 0.476511\n",
      "Epoch 55 | Train loss: 0.197786 | Val loss: 0.475608\n",
      "Epoch 56 | Train loss: 0.195764 | Val loss: 0.475241\n",
      "Epoch 57 | Train loss: 0.193844 | Val loss: 0.473965\n",
      "Epoch 58 | Train loss: 0.192001 | Val loss: 0.473152\n",
      "Epoch 59 | Train loss: 0.190790 | Val loss: 0.472238\n",
      "Epoch 60 | Train loss: 0.188429 | Val loss: 0.471544\n",
      "Epoch 61 | Train loss: 0.186648 | Val loss: 0.470796\n",
      "Epoch 62 | Train loss: 0.184949 | Val loss: 0.469976\n",
      "Epoch 63 | Train loss: 0.183327 | Val loss: 0.469514\n",
      "Epoch 64 | Train loss: 0.181990 | Val loss: 0.469138\n",
      "Epoch 65 | Train loss: 0.180055 | Val loss: 0.467786\n",
      "Epoch 66 | Train loss: 0.178596 | Val loss: 0.467376\n",
      "Epoch 67 | Train loss: 0.176950 | Val loss: 0.466341\n",
      "Epoch 68 | Train loss: 0.175560 | Val loss: 0.465989\n",
      "Epoch 69 | Train loss: 0.174355 | Val loss: 0.464875\n",
      "Epoch 70 | Train loss: 0.172782 | Val loss: 0.464791\n",
      "Epoch 71 | Train loss: 0.171285 | Val loss: 0.463998\n",
      "Epoch 72 | Train loss: 0.169881 | Val loss: 0.462864\n",
      "Epoch 73 | Train loss: 0.168362 | Val loss: 0.462598\n",
      "Epoch 74 | Train loss: 0.166953 | Val loss: 0.461716\n",
      "Epoch 75 | Train loss: 0.165748 | Val loss: 0.461455\n",
      "Epoch 76 | Train loss: 0.164481 | Val loss: 0.460908\n",
      "Epoch 77 | Train loss: 0.163049 | Val loss: 0.459906\n",
      "Epoch 78 | Train loss: 0.162567 | Val loss: 0.459445\n",
      "Epoch 79 | Train loss: 0.160552 | Val loss: 0.458989\n",
      "Epoch 80 | Train loss: 0.159323 | Val loss: 0.458419\n"
     ]
    }
   ],
   "source": [
    "w_tfidf, loss_tr_tfidf, loss_dev_tfidf = SGD(X_tr_tfidf, Y_tr, \n",
    "                         X_dev=X_dev_tfidf, \n",
    "                         Y_dev=Y_dev, \n",
    "                         lr=0.00001, \n",
    "                         alpha=0.00001,\n",
    "                         epochs=80, tolerance=0.00001)"
   ]
  },
  {
   "cell_type": "markdown",
   "metadata": {},
   "source": [
    "Now plot the training and validation history per epoch. Does your model underfit, overfit or is it about right? Explain why."
   ]
  },
  {
   "cell_type": "code",
   "execution_count": 34,
   "metadata": {},
   "outputs": [
    {
     "data": {
      "text/plain": [
       "<matplotlib.legend.Legend at 0x244c2d8b2e8>"
      ]
     },
     "execution_count": 34,
     "metadata": {},
     "output_type": "execute_result"
    },
    {
     "data": {
      "image/png": "[encoded data removed]",
      "text/plain": [
       "<Figure size 432x288 with 1 Axes>"
      ]
     },
     "metadata": {
      "needs_background": "light"
     },
     "output_type": "display_data"
    }
   ],
   "source": [
    "epochs = len(loss_tr_tfidf)\n",
    "plt.plot(list(range(epochs)), loss_tr_tfidf, label = 'Training loss')\n",
    "plt.plot(list(range(epochs)), loss_dev_tfidf, label = 'Validation loss')\n",
    "plt.xlabel('Epoch')\n",
    "plt.ylabel('Loss')\n",
    "plt.title('Training History')\n",
    "plt.legend()"
   ]
  },
  {
   "cell_type": "markdown",
   "metadata": {},
   "source": [
    "Compute accuracy, precision, recall and F1-scores:"
   ]
  },
  {
   "cell_type": "code",
   "execution_count": 35,
   "metadata": {
    "ExecuteTime": {
     "end_time": "2020-02-15T14:37:56.489814Z",
     "start_time": "2020-02-15T14:37:56.487014Z"
    }
   },
   "outputs": [
    {
     "name": "stdout",
     "output_type": "stream",
     "text": [
      "Accuracy: 0.8275\n",
      "Precision: 0.8164251207729468\n",
      "Recall: 0.845\n",
      "F1-Score: 0.8304668304668306\n"
     ]
    }
   ],
   "source": [
    "preds_test_tfidf = predict_class(X_test_tfidf, w_tfidf)\n",
    "\n",
    "print('Accuracy:', accuracy_score(Y_test,preds_test_tfidf))\n",
    "print('Precision:', precision_score(Y_test,preds_test_tfidf))\n",
    "print('Recall:', recall_score(Y_test,preds_test_tfidf))\n",
    "print('F1-Score:', f1_score(Y_test,preds_test_tfidf))"
   ]
  },
  {
   "cell_type": "markdown",
   "metadata": {},
   "source": [
    "Print top-10 most positive and negative words:"
   ]
  },
  {
   "cell_type": "code",
   "execution_count": 36,
   "metadata": {
    "ExecuteTime": {
     "end_time": "2020-02-15T14:38:17.845485Z",
     "start_time": "2020-02-15T14:38:17.842557Z"
    }
   },
   "outputs": [
    {
     "data": {
      "text/plain": [
       "['quite',\n",
       " 'world',\n",
       " 'life',\n",
       " 'many',\n",
       " 'also',\n",
       " 'seen',\n",
       " 'both',\n",
       " 'fun',\n",
       " 'well',\n",
       " 'great']"
      ]
     },
     "execution_count": 36,
     "metadata": {},
     "output_type": "execute_result"
    }
   ],
   "source": [
    "pos_index_tfidf = np.argpartition(w_tfidf, -10)[-10:]\n",
    "top10pos_tfidf = [vocab_id[i] for i in pos_index_tfidf]\n",
    "top10pos_tfidf"
   ]
  },
  {
   "cell_type": "code",
   "execution_count": 37,
   "metadata": {
    "ExecuteTime": {
     "end_time": "2020-02-15T14:38:22.781128Z",
     "start_time": "2020-02-15T14:38:22.778590Z"
    }
   },
   "outputs": [
    {
     "data": {
      "text/plain": [
       "['worst',\n",
       " 'boring',\n",
       " 'only',\n",
       " 'script',\n",
       " 'bad',\n",
       " 'unfortunately',\n",
       " 'why',\n",
       " 'any',\n",
       " 'plot',\n",
       " 'nothing']"
      ]
     },
     "execution_count": 37,
     "metadata": {},
     "output_type": "execute_result"
    }
   ],
   "source": [
    "neg_index_tfidf = np.argpartition(w_tfidf, 10)[:10]\n",
    "top10neg_tfidf = [vocab_id[i] for i in neg_index]   \n",
    "top10neg_tfidf"
   ]
  },
  {
   "cell_type": "markdown",
   "metadata": {},
   "source": [
    "### Discuss how did you choose model hyperparameters (e.g. learning rate and regularisation strength)? What is the relation between training epochs and learning rate? How the regularisation strength affects performance?"
   ]
  },
  {
   "cell_type": "markdown",
   "metadata": {},
   "source": [
    "##### TFIDF\n",
    "lr=0.00001, alpha=0.00001, epochs=80\n",
    "\n",
    "- Low learning rate to prevent the model from learning too much in one epoch, which results in a loss increase.\n",
    "- Low regularisation parameter because tfidf regularises the data more than count already.\n",
    "- 80 epochs because the tolerance is reached in much fewer.\n",
    "\n",
    "##### Count\n",
    "lr=0.0001, alpha=0.001, epochs=100\n",
    "\n",
    "- Increased regularisation to generalise to validation set.\n",
    "- Increase learning rate to speed up training.\n",
    "- Default 100 epochs due to time constraints.\n",
    "\n",
    "\n",
    "An increased learning rate means we can do less epochs. If epochs = 10 and lr = 1, we can achieve same effect with epochs = 5 and lr = 2. A larger regularisation strength can close the gap between training loss and validation loss. A large difference between these two losses is indicative of a model that overfits. \n"
   ]
  },
  {
   "cell_type": "markdown",
   "metadata": {},
   "source": [
    "\n",
    "\n",
    "\n",
    "## Full Results\n",
    "\n",
    "Add here your results:\n",
    "\n",
    "| LR | Precision  | Recall  | F1-Score  |\n",
    "|:-:|:-:|:-:|:-:|\n",
    "| BOW-count  |  0.824 | 0.845  | 0.835  |\n",
    "| BOW-tfidf  |  0.856 | 0.775  | 0.814  |\n"
   ]
  },
  {
   "cell_type": "markdown",
   "metadata": {},
   "source": [
    "# Multi-class Logistic Regression \n",
    "\n",
    "Now you need to train a Multiclass Logistic Regression (MLR) Classifier by extending the Binary model you developed above. You will use the MLR model to perform topic classification on the AG news dataset consisting of three classes:"
   ]
  },
  {
   "cell_type": "markdown",
   "metadata": {},
   "source": [
    "- Class 1: World\n",
    "- Class 2: Sports\n",
    "- Class 3: Business\n",
    "\n",
    "train: 2,400. 800 per class"
   ]
  },
  {
   "cell_type": "markdown",
   "metadata": {},
   "source": [
    "You need to follow the same process as in Task 1 for data processing and feature extraction by reusing the functions you wrote."
   ]
  },
  {
   "cell_type": "code",
   "execution_count": 39,
   "metadata": {
    "ExecuteTime": {
     "end_time": "2020-02-15T14:18:04.508938Z",
     "start_time": "2020-02-15T14:18:04.171071Z"
    }
   },
   "outputs": [
    {
     "name": "stdout",
     "output_type": "stream",
     "text": [
      "5000\n",
      "\n",
      "['paid', 'new homes', 'before', 'Minister Alexander', 'KINGSTON', 'Adam Nelson', 'States over', 'thousands', 'investors put', 'Price', 'Minister Tony', 'retailer Tuesday', 'today after', 'Palestinian prisoners', 'bought beaten down', 'challenges', 'PARIS Reuters', 'political', 'qualifying Olympic', 'even more', 'eased fears', 'Tuesday showed', 'Likud party', 'Michael', 'bases', 'BHP Billiton', 'Diego Padres', 'Brian Ching', 'linked', 'previous', 'Tuesday allowed investors', 'soldier killed', 'slumping', 'thrown', 'walk', 'Reuters New', 'States men', 'murder British backpacker', 'Walker', 'MW', 'second half', 'WASHINGTON Reuters', 'boy', 'renegade Afghan', 'cost', 'Al Maktoum', 'Costas Kenteris', 'suspended', 'land', 'Republican', 'Reuters American', 'Mac', 'defending champion', 'hellip', 'November', 'wife', 'Wholesale', 'judges', 'initial stock', 'Jays', 'report showing', 'Tomas Berdych Czech', 'highly anticipated', 'watch', 'defused bomb near', 'order', 'Wal Mart Stores', 'medals', 'regarding', 'ever', 'Conference', 'fullquote gt HD', 'twice', 'threatened', 'quarterly earnings jumped', 'radical Shi ite', 'Houston Astros', 'bell Tuesday after', 'others', 'senior al', 'bell', 'heat', 'Greece top', 'par', 'sixth', 'seeded', 'wider', 'PUNTA', 'landslides', 'after company', 'capture', 'agreed', 'preseason', 'upset', 'sick', 'launch', 'crude oil', 'closer', 'Monday reported percent', 'blow']\n",
      "\n",
      "[('Reuters', 630), ('said', 432), ('Tuesday', 413), ('Wednesday', 344), ('after', 277), ('AP', 275), ('Monday', 221), ('first', 205), ('ATHENS', 194), ('over', 185)]\n"
     ]
    }
   ],
   "source": [
    "vocab2, df2, ngram_counts = get_vocab(train_text2, n=3, keep_topN=5000, stop_words=stop_words)\n",
    "print(len(vocab2))\n",
    "print()\n",
    "print(list(vocab2)[:100])\n",
    "print()\n",
    "print(Counter(df2).most_common()[:10])"
   ]
  },
  {
   "cell_type": "code",
   "execution_count": 40,
   "metadata": {},
   "outputs": [],
   "source": [
    "vocab_id2 = {i:list(vocab2)[i] for i in range(len(vocab2))}\n",
    "\n",
    "X_tr2 = extract_X_ngram(train_text2)\n",
    "X_tr_count2 = vectorise(X_tr2, vocab2)\n",
    "\n",
    "X_test2 = extract_X_ngram(test_text2)\n",
    "X_test_count2 = vectorise(X_test2, vocab2)\n",
    "\n",
    "X_dev2 = extract_X_ngram(dev_text2)\n",
    "X_dev_count2 = vectorise(X_dev2, vocab2)"
   ]
  },
  {
   "cell_type": "code",
   "execution_count": 41,
   "metadata": {},
   "outputs": [],
   "source": [
    "def count2tfidf(df, X):\n",
    "    \n",
    "    X_tfidf = np.zeros(X.shape)\n",
    "    df_counts = list(df.values())\n",
    "    idf = [log(len(X_tr)/i) for i in df_counts]\n",
    "    \n",
    "    for i in range(len(X)):\n",
    "        X_tfidf[i] = X[i]*idf\n",
    "        \n",
    "    return X_tfidf\n",
    "\n",
    "X_tr_tfidf2 = count2tfidf(df2, X_tr_count2)\n",
    "X_test_tfidf2 = count2tfidf(df2, X_test_count2)\n",
    "X_dev_tfidf2 = count2tfidf(df2, X_dev_count2)"
   ]
  },
  {
   "cell_type": "markdown",
   "metadata": {},
   "source": [
    "Now you need to change `SGD` to support multiclass datasets. First you need to develop a `softmax` function. It takes as input:\n",
    "\n",
    "- `z`: array of real numbers \n",
    "\n",
    "and returns:\n",
    "\n",
    "- `smax`: the softmax of `z`"
   ]
  },
  {
   "cell_type": "code",
   "execution_count": 296,
   "metadata": {
    "ExecuteTime": {
     "end_time": "2020-02-15T14:18:07.440998Z",
     "start_time": "2020-02-15T14:18:07.437915Z"
    }
   },
   "outputs": [],
   "source": [
    "def softmax(z):\n",
    "    e_z = np.exp(z.T)\n",
    "    smax = e_z/sum(e_z)\n",
    "    return smax.T"
   ]
  },
  {
   "cell_type": "markdown",
   "metadata": {},
   "source": [
    "Then modify `predict_proba` and `predict_class` functions for the multiclass case:"
   ]
  },
  {
   "cell_type": "code",
   "execution_count": 347,
   "metadata": {
    "ExecuteTime": {
     "end_time": "2020-02-15T14:18:07.445451Z",
     "start_time": "2020-02-15T14:18:07.442851Z"
    }
   },
   "outputs": [],
   "source": [
    "def predict_proba2(X, w):\n",
    "    preds_proba = []\n",
    "    z = np.dot(X, w)\n",
    "    if len(z) == 3:\n",
    "        preds_proba = softmax(z)\n",
    "    else:\n",
    "        for row in z:\n",
    "            preds_proba.append(softmax(row))\n",
    "    preds_proba = np.array(preds_proba)\n",
    "    return preds_proba"
   ]
  },
  {
   "cell_type": "code",
   "execution_count": 348,
   "metadata": {
    "ExecuteTime": {
     "end_time": "2020-02-15T14:18:07.449814Z",
     "start_time": "2020-02-15T14:18:07.447145Z"
    }
   },
   "outputs": [],
   "source": [
    "def predict_class2(X, weights):\n",
    "    \n",
    "    probs = predict_proba2(X, weights)\n",
    "    preds_class = [i.argmax()+1 for i in probs]\n",
    "    \n",
    "    return preds_class"
   ]
  },
  {
   "cell_type": "markdown",
   "metadata": {},
   "source": [
    "Toy example and expected functionality of the functions above:"
   ]
  },
  {
   "cell_type": "code",
   "execution_count": 349,
   "metadata": {
    "ExecuteTime": {
     "end_time": "2020-02-15T14:18:08.059902Z",
     "start_time": "2020-02-15T14:18:08.056774Z"
    }
   },
   "outputs": [
    {
     "name": "stdout",
     "output_type": "stream",
     "text": [
      "2 [0.1 0.2]\n",
      "1 [0.2 0.1]\n",
      "1 [ 0.1 -0.2]\n"
     ]
    },
    {
     "data": {
      "text/plain": [
       "(2400, 5000)"
      ]
     },
     "execution_count": 349,
     "metadata": {},
     "output_type": "execute_result"
    }
   ],
   "source": [
    "X = np.array([[0.1,0.2],\n",
    "              [0.2,0.1],\n",
    "              [0.1,-0.2]])\n",
    "w = np.array([[2,-5],\n",
    "              [-5,2]])"
   ]
  },
  {
   "cell_type": "code",
   "execution_count": 350,
   "metadata": {
    "ExecuteTime": {
     "end_time": "2020-02-15T14:18:08.495464Z",
     "start_time": "2020-02-15T14:18:08.491074Z"
    }
   },
   "outputs": [
    {
     "data": {
      "text/plain": [
       "array([[0.33181223, 0.66818777],\n",
       "       [0.66818777, 0.33181223],\n",
       "       [0.89090318, 0.10909682]])"
      ]
     },
     "execution_count": 350,
     "metadata": {},
     "output_type": "execute_result"
    }
   ],
   "source": [
    "predict_proba2(X, w)"
   ]
  },
  {
   "cell_type": "markdown",
   "metadata": {},
   "source": [
    "`array([[0.33181223, 0.66818777],\n",
    "       [0.66818777, 0.33181223],\n",
    "       [0.89090318, 0.10909682]])`"
   ]
  },
  {
   "cell_type": "code",
   "execution_count": 351,
   "metadata": {
    "ExecuteTime": {
     "end_time": "2020-02-15T14:18:08.714215Z",
     "start_time": "2020-02-15T14:18:08.710098Z"
    }
   },
   "outputs": [
    {
     "name": "stdout",
     "output_type": "stream",
     "text": [
      "2 [0.33181223 0.66818777]\n",
      "1 [0.66818777 0.33181223]\n",
      "1 [0.89090318 0.10909682]\n"
     ]
    }
   ],
   "source": [
    "predict_class2(X, w)"
   ]
  },
  {
   "cell_type": "markdown",
   "metadata": {},
   "source": [
    "`array([2, 1, 1])`"
   ]
  },
  {
   "cell_type": "markdown",
   "metadata": {},
   "source": [
    "Now you need to compute the categorical cross entropy loss (extending the binary loss to support multiple classes)."
   ]
  },
  {
   "cell_type": "code",
   "execution_count": 449,
   "metadata": {
    "ExecuteTime": {
     "end_time": "2020-02-15T14:30:48.047338Z",
     "start_time": "2020-02-15T14:30:48.044395Z"
    }
   },
   "outputs": [],
   "source": [
    "def categorical_loss(X, Y, weights, num_classes=3, alpha=0.00001):\n",
    "    m = len(Y)\n",
    "    pred = predict_proba2(X, weights.T)\n",
    "    pred = np.log(pred + alpha)\n",
    "    y_c = []\n",
    "    \n",
    "    for i in range(int(num_classes)):\n",
    "        y = list((Y == i+1).astype(int))\n",
    "        y_c.append(y)\n",
    "    \n",
    "    y_c = np.array(y_c)    \n",
    "    l = (-1/m)*np.sum(y_c.T * pred)\n",
    "    # - log likelihood of the true class. y = 0 or 1. c = 1, 2 or 3\n",
    "\n",
    "    return l\n"
   ]
  },
  {
   "cell_type": "markdown",
   "metadata": {
    "ExecuteTime": {
     "end_time": "2020-02-15T14:08:59.937442Z",
     "start_time": "2020-02-15T14:08:59.932221Z"
    }
   },
   "source": [
    "Finally you need to modify SGD to support the categorical cross entropy loss:"
   ]
  },
  {
   "cell_type": "code",
   "execution_count": 431,
   "metadata": {},
   "outputs": [],
   "source": [
    "def SGD2(X_tr, Y_tr, X_dev=[], Y_dev=[], num_classes=3, lr=0.01, alpha=0.00001, epochs=5, tolerance=0.0001, print_progress=True):\n",
    "    \n",
    "    training_loss_history = []\n",
    "    validation_loss_history = []\n",
    "    w = np.zeros((num_classes, len(X_tr.T)))\n",
    "    \n",
    "    # Parallel iteration of X and Y\n",
    "    for epoch in range(epochs):\n",
    "        # Shuffle X, y and vocab using same permutation\n",
    "        perm = np.random.permutation(len(Y_tr))\n",
    "        X_tr, Y_tr = X_tr[perm], Y_tr[perm]\n",
    "        for row, label in zip(X_tr, Y_tr):\n",
    "            for i in range(num_classes):\n",
    "                if label == i+1:\n",
    "                    pred = predict_proba2(row, w.T)\n",
    "                    #print(pred.shape, pred)\n",
    "                    dl_dw = pred[i]*row - row + 2*alpha*w[i]\n",
    "                    w[i] -= lr*dl_dw\n",
    "        l = categorical_loss(X_tr, Y_tr, w, num_classes, alpha)\n",
    "        l_val = categorical_loss(X_dev, Y_dev, w, num_classes, alpha)\n",
    "        training_loss_history.append(l)\n",
    "        validation_loss_history.append(l_val)\n",
    "        \n",
    "        if print_progress == True:\n",
    "            print('Epoch {0} | Train loss: {1:3f} | Val loss: {2:3f}'.format(epoch+1, l, l_val))\n",
    "\n",
    "        if epoch > 0 and (validation_loss_history[epoch-1] - validation_loss_history[epoch]) < tolerance:\n",
    "             break\n",
    "    return w, training_loss_history, validation_loss_history"
   ]
  },
  {
   "cell_type": "markdown",
   "metadata": {
    "ExecuteTime": {
     "end_time": "2020-02-15T14:10:15.772383Z",
     "start_time": "2020-02-15T14:10:15.767855Z"
    }
   },
   "source": [
    "Now you are ready to train and evaluate you MLR following the same steps as in Task 1 for both Count and tfidf features:"
   ]
  },
  {
   "cell_type": "code",
   "execution_count": 432,
   "metadata": {
    "ExecuteTime": {
     "end_time": "2020-02-15T14:18:55.324956Z",
     "start_time": "2020-02-15T14:18:11.720952Z"
    }
   },
   "outputs": [
    {
     "name": "stdout",
     "output_type": "stream",
     "text": [
      "Epoch 1 | Train loss: 1.049852 | Val loss: 1.060291\n",
      "Epoch 2 | Train loss: 1.009147 | Val loss: 1.028520\n",
      "Epoch 3 | Train loss: 0.972977 | Val loss: 0.999973\n",
      "Epoch 4 | Train loss: 0.940728 | Val loss: 0.974255\n",
      "Epoch 5 | Train loss: 0.911848 | Val loss: 0.951030\n",
      "Epoch 6 | Train loss: 0.885885 | Val loss: 0.930009\n",
      "Epoch 7 | Train loss: 0.862429 | Val loss: 0.910921\n",
      "Epoch 8 | Train loss: 0.841166 | Val loss: 0.893555\n",
      "Epoch 9 | Train loss: 0.821770 | Val loss: 0.877692\n",
      "Epoch 10 | Train loss: 0.804029 | Val loss: 0.863155\n",
      "Epoch 11 | Train loss: 0.787723 | Val loss: 0.849818\n",
      "Epoch 12 | Train loss: 0.772670 | Val loss: 0.837536\n",
      "Epoch 13 | Train loss: 0.758732 | Val loss: 0.826204\n",
      "Epoch 14 | Train loss: 0.745785 | Val loss: 0.815710\n",
      "Epoch 15 | Train loss: 0.733719 | Val loss: 0.805978\n",
      "Epoch 16 | Train loss: 0.722443 | Val loss: 0.796935\n",
      "Epoch 17 | Train loss: 0.711876 | Val loss: 0.788506\n",
      "Epoch 18 | Train loss: 0.701941 | Val loss: 0.780635\n",
      "Epoch 19 | Train loss: 0.692583 | Val loss: 0.773269\n",
      "Epoch 20 | Train loss: 0.683750 | Val loss: 0.766370\n",
      "Epoch 21 | Train loss: 0.675393 | Val loss: 0.759896\n",
      "Epoch 22 | Train loss: 0.667470 | Val loss: 0.753797\n",
      "Epoch 23 | Train loss: 0.659949 | Val loss: 0.748057\n",
      "Epoch 24 | Train loss: 0.652796 | Val loss: 0.742649\n",
      "Epoch 25 | Train loss: 0.645977 | Val loss: 0.737532\n",
      "Epoch 26 | Train loss: 0.639471 | Val loss: 0.732691\n",
      "Epoch 27 | Train loss: 0.633254 | Val loss: 0.728109\n",
      "Epoch 28 | Train loss: 0.627298 | Val loss: 0.723755\n",
      "Epoch 29 | Train loss: 0.621587 | Val loss: 0.719618\n",
      "Epoch 30 | Train loss: 0.616111 | Val loss: 0.715688\n",
      "Epoch 31 | Train loss: 0.610847 | Val loss: 0.711945\n",
      "Epoch 32 | Train loss: 0.605787 | Val loss: 0.708382\n",
      "Epoch 33 | Train loss: 0.600914 | Val loss: 0.704985\n",
      "Epoch 34 | Train loss: 0.596218 | Val loss: 0.701746\n",
      "Epoch 35 | Train loss: 0.591687 | Val loss: 0.698651\n",
      "Epoch 36 | Train loss: 0.587307 | Val loss: 0.695682\n",
      "Epoch 37 | Train loss: 0.583073 | Val loss: 0.692840\n",
      "Epoch 38 | Train loss: 0.578979 | Val loss: 0.690122\n",
      "Epoch 39 | Train loss: 0.575015 | Val loss: 0.687516\n",
      "Epoch 40 | Train loss: 0.571174 | Val loss: 0.685016\n",
      "Epoch 41 | Train loss: 0.567450 | Val loss: 0.682619\n",
      "Epoch 42 | Train loss: 0.563835 | Val loss: 0.680312\n",
      "Epoch 43 | Train loss: 0.560324 | Val loss: 0.678089\n",
      "Epoch 44 | Train loss: 0.556909 | Val loss: 0.675945\n",
      "Epoch 45 | Train loss: 0.553593 | Val loss: 0.673891\n",
      "Epoch 46 | Train loss: 0.550365 | Val loss: 0.671912\n",
      "Epoch 47 | Train loss: 0.547227 | Val loss: 0.670014\n",
      "Epoch 48 | Train loss: 0.544165 | Val loss: 0.668170\n",
      "Epoch 49 | Train loss: 0.541187 | Val loss: 0.666404\n",
      "Epoch 50 | Train loss: 0.538283 | Val loss: 0.664702\n",
      "Epoch 51 | Train loss: 0.535447 | Val loss: 0.663048\n",
      "Epoch 52 | Train loss: 0.532679 | Val loss: 0.661455\n",
      "Epoch 53 | Train loss: 0.529976 | Val loss: 0.659913\n",
      "Epoch 54 | Train loss: 0.527335 | Val loss: 0.658420\n",
      "Epoch 55 | Train loss: 0.524753 | Val loss: 0.656972\n",
      "Epoch 56 | Train loss: 0.522229 | Val loss: 0.655575\n",
      "Epoch 57 | Train loss: 0.519762 | Val loss: 0.654226\n",
      "Epoch 58 | Train loss: 0.517348 | Val loss: 0.652920\n",
      "Epoch 59 | Train loss: 0.514985 | Val loss: 0.651656\n",
      "Epoch 60 | Train loss: 0.512671 | Val loss: 0.650426\n",
      "Epoch 61 | Train loss: 0.510402 | Val loss: 0.649229\n",
      "Epoch 62 | Train loss: 0.508182 | Val loss: 0.648076\n",
      "Epoch 63 | Train loss: 0.506006 | Val loss: 0.646960\n",
      "Epoch 64 | Train loss: 0.503869 | Val loss: 0.645867\n",
      "Epoch 65 | Train loss: 0.501773 | Val loss: 0.644806\n",
      "Epoch 66 | Train loss: 0.499717 | Val loss: 0.643778\n",
      "Epoch 67 | Train loss: 0.497699 | Val loss: 0.642774\n",
      "Epoch 68 | Train loss: 0.495719 | Val loss: 0.641803\n",
      "Epoch 69 | Train loss: 0.493776 | Val loss: 0.640863\n",
      "Epoch 70 | Train loss: 0.491866 | Val loss: 0.639946\n",
      "Epoch 71 | Train loss: 0.489991 | Val loss: 0.639057\n",
      "Epoch 72 | Train loss: 0.488149 | Val loss: 0.638194\n",
      "Epoch 73 | Train loss: 0.486335 | Val loss: 0.637346\n",
      "Epoch 74 | Train loss: 0.484553 | Val loss: 0.636525\n",
      "Epoch 75 | Train loss: 0.482801 | Val loss: 0.635725\n",
      "Epoch 76 | Train loss: 0.481078 | Val loss: 0.634946\n",
      "Epoch 77 | Train loss: 0.479382 | Val loss: 0.634188\n",
      "Epoch 78 | Train loss: 0.477717 | Val loss: 0.633458\n",
      "Epoch 79 | Train loss: 0.476076 | Val loss: 0.632745\n",
      "Epoch 80 | Train loss: 0.474460 | Val loss: 0.632046\n",
      "Epoch 81 | Train loss: 0.472869 | Val loss: 0.631367\n",
      "Epoch 82 | Train loss: 0.471302 | Val loss: 0.630701\n",
      "Epoch 83 | Train loss: 0.469759 | Val loss: 0.630053\n",
      "Epoch 84 | Train loss: 0.468237 | Val loss: 0.629415\n",
      "Epoch 85 | Train loss: 0.466740 | Val loss: 0.628803\n",
      "Epoch 86 | Train loss: 0.465263 | Val loss: 0.628199\n",
      "Epoch 87 | Train loss: 0.463808 | Val loss: 0.627614\n",
      "Epoch 88 | Train loss: 0.462376 | Val loss: 0.627046\n",
      "Epoch 89 | Train loss: 0.460960 | Val loss: 0.626485\n",
      "Epoch 90 | Train loss: 0.459566 | Val loss: 0.625941\n",
      "Epoch 91 | Train loss: 0.458192 | Val loss: 0.625413\n",
      "Epoch 92 | Train loss: 0.456835 | Val loss: 0.624894\n",
      "Epoch 93 | Train loss: 0.455498 | Val loss: 0.624388\n",
      "Epoch 94 | Train loss: 0.454176 | Val loss: 0.623891\n",
      "Epoch 95 | Train loss: 0.452872 | Val loss: 0.623406\n",
      "Epoch 96 | Train loss: 0.451584 | Val loss: 0.622930\n",
      "Epoch 97 | Train loss: 0.450313 | Val loss: 0.622463\n",
      "Epoch 98 | Train loss: 0.449058 | Val loss: 0.622008\n",
      "Epoch 99 | Train loss: 0.447820 | Val loss: 0.621570\n",
      "Epoch 100 | Train loss: 0.446598 | Val loss: 0.621140\n",
      "Epoch 101 | Train loss: 0.445390 | Val loss: 0.620716\n",
      "Epoch 102 | Train loss: 0.444197 | Val loss: 0.620300\n",
      "Epoch 103 | Train loss: 0.443019 | Val loss: 0.619897\n",
      "Epoch 104 | Train loss: 0.441857 | Val loss: 0.619507\n",
      "Epoch 105 | Train loss: 0.440706 | Val loss: 0.619119\n",
      "Epoch 106 | Train loss: 0.439570 | Val loss: 0.618745\n",
      "Epoch 107 | Train loss: 0.438450 | Val loss: 0.618386\n",
      "Epoch 108 | Train loss: 0.437340 | Val loss: 0.618024\n",
      "Epoch 109 | Train loss: 0.436240 | Val loss: 0.617662\n",
      "Epoch 110 | Train loss: 0.435154 | Val loss: 0.617315\n",
      "Epoch 111 | Train loss: 0.434080 | Val loss: 0.616972\n",
      "Epoch 112 | Train loss: 0.433021 | Val loss: 0.616647\n",
      "Epoch 113 | Train loss: 0.431973 | Val loss: 0.616324\n",
      "Epoch 114 | Train loss: 0.430936 | Val loss: 0.616006\n",
      "Epoch 115 | Train loss: 0.429912 | Val loss: 0.615703\n",
      "Epoch 116 | Train loss: 0.428898 | Val loss: 0.615402\n",
      "Epoch 117 | Train loss: 0.427896 | Val loss: 0.615108\n",
      "Epoch 118 | Train loss: 0.426902 | Val loss: 0.614816\n",
      "Epoch 119 | Train loss: 0.425919 | Val loss: 0.614531\n",
      "Epoch 120 | Train loss: 0.424945 | Val loss: 0.614246\n",
      "Epoch 121 | Train loss: 0.423983 | Val loss: 0.613974\n",
      "Epoch 122 | Train loss: 0.423030 | Val loss: 0.613702\n",
      "Epoch 123 | Train loss: 0.422087 | Val loss: 0.613440\n",
      "Epoch 124 | Train loss: 0.421156 | Val loss: 0.613190\n",
      "Epoch 125 | Train loss: 0.420231 | Val loss: 0.612935\n",
      "Epoch 126 | Train loss: 0.419320 | Val loss: 0.612697\n",
      "Epoch 127 | Train loss: 0.418414 | Val loss: 0.612455\n",
      "Epoch 128 | Train loss: 0.417519 | Val loss: 0.612223\n",
      "Epoch 129 | Train loss: 0.416629 | Val loss: 0.611986\n",
      "Epoch 130 | Train loss: 0.415752 | Val loss: 0.611763\n",
      "Epoch 131 | Train loss: 0.414881 | Val loss: 0.611540\n",
      "Epoch 132 | Train loss: 0.414020 | Val loss: 0.611323\n",
      "Epoch 133 | Train loss: 0.413169 | Val loss: 0.611118\n",
      "Epoch 134 | Train loss: 0.412324 | Val loss: 0.610912\n",
      "Epoch 135 | Train loss: 0.411487 | Val loss: 0.610707\n",
      "Epoch 136 | Train loss: 0.410659 | Val loss: 0.610515\n",
      "Epoch 137 | Train loss: 0.409836 | Val loss: 0.610319\n",
      "Epoch 138 | Train loss: 0.409023 | Val loss: 0.610133\n",
      "Epoch 139 | Train loss: 0.408218 | Val loss: 0.609950\n",
      "Epoch 140 | Train loss: 0.407421 | Val loss: 0.609775\n",
      "Epoch 141 | Train loss: 0.406627 | Val loss: 0.609590\n",
      "Epoch 142 | Train loss: 0.405843 | Val loss: 0.609416\n",
      "Epoch 143 | Train loss: 0.405067 | Val loss: 0.609250\n",
      "Epoch 144 | Train loss: 0.404296 | Val loss: 0.609083\n",
      "Epoch 145 | Train loss: 0.403533 | Val loss: 0.608922\n",
      "Epoch 146 | Train loss: 0.402775 | Val loss: 0.608760\n",
      "Epoch 147 | Train loss: 0.402024 | Val loss: 0.608602\n",
      "Epoch 148 | Train loss: 0.401281 | Val loss: 0.608450\n",
      "Epoch 149 | Train loss: 0.400544 | Val loss: 0.608302\n",
      "Epoch 150 | Train loss: 0.399813 | Val loss: 0.608154\n",
      "Epoch 151 | Train loss: 0.399090 | Val loss: 0.608016\n",
      "Epoch 152 | Train loss: 0.398372 | Val loss: 0.607879\n",
      "Epoch 153 | Train loss: 0.397660 | Val loss: 0.607744\n",
      "Epoch 154 | Train loss: 0.396954 | Val loss: 0.607613\n"
     ]
    },
    {
     "name": "stdout",
     "output_type": "stream",
     "text": [
      "Epoch 155 | Train loss: 0.396254 | Val loss: 0.607483\n",
      "Epoch 156 | Train loss: 0.395561 | Val loss: 0.607364\n",
      "Epoch 157 | Train loss: 0.394873 | Val loss: 0.607239\n",
      "Epoch 158 | Train loss: 0.394192 | Val loss: 0.607122\n",
      "Epoch 159 | Train loss: 0.393514 | Val loss: 0.607002\n",
      "Epoch 160 | Train loss: 0.392842 | Val loss: 0.606886\n",
      "Epoch 161 | Train loss: 0.392174 | Val loss: 0.606769\n",
      "Epoch 162 | Train loss: 0.391513 | Val loss: 0.606656\n",
      "Epoch 163 | Train loss: 0.390857 | Val loss: 0.606546\n",
      "Epoch 164 | Train loss: 0.390206 | Val loss: 0.606436\n",
      "Epoch 165 | Train loss: 0.389559 | Val loss: 0.606328\n",
      "Epoch 166 | Train loss: 0.388916 | Val loss: 0.606218\n",
      "Epoch 167 | Train loss: 0.388282 | Val loss: 0.606121\n"
     ]
    }
   ],
   "source": [
    "#Count\n",
    "w_count, loss_tr_count, dev_loss_count = SGD2(X_tr_count2, Y_tr2, \n",
    "                                             X_dev=X_dev_count2, \n",
    "                                             Y_dev=Y_dev2,\n",
    "                                             num_classes=3,\n",
    "                                             lr=0.001, \n",
    "                                             alpha=0.001, \n",
    "                                             epochs=200)"
   ]
  },
  {
   "cell_type": "code",
   "execution_count": 451,
   "metadata": {},
   "outputs": [
    {
     "name": "stdout",
     "output_type": "stream",
     "text": [
      "Epoch 1 | Train loss: 1.049834 | Val loss: 1.060275\n",
      "Epoch 2 | Train loss: 1.009151 | Val loss: 1.028529\n",
      "Epoch 3 | Train loss: 0.972994 | Val loss: 0.999985\n",
      "Epoch 4 | Train loss: 0.940741 | Val loss: 0.974290\n",
      "Epoch 5 | Train loss: 0.911870 | Val loss: 0.951080\n",
      "Epoch 6 | Train loss: 0.885915 | Val loss: 0.930060\n",
      "Epoch 7 | Train loss: 0.862483 | Val loss: 0.910991\n",
      "Epoch 8 | Train loss: 0.841209 | Val loss: 0.893627\n",
      "Epoch 9 | Train loss: 0.821811 | Val loss: 0.877756\n",
      "Epoch 10 | Train loss: 0.804066 | Val loss: 0.863223\n",
      "Epoch 11 | Train loss: 0.787756 | Val loss: 0.849885\n",
      "Epoch 12 | Train loss: 0.772708 | Val loss: 0.837608\n",
      "Epoch 13 | Train loss: 0.758772 | Val loss: 0.826268\n",
      "Epoch 14 | Train loss: 0.745823 | Val loss: 0.815769\n",
      "Epoch 15 | Train loss: 0.733758 | Val loss: 0.806034\n",
      "Epoch 16 | Train loss: 0.722477 | Val loss: 0.796985\n",
      "Epoch 17 | Train loss: 0.711910 | Val loss: 0.788564\n",
      "Epoch 18 | Train loss: 0.701974 | Val loss: 0.780692\n",
      "Epoch 19 | Train loss: 0.692612 | Val loss: 0.773326\n",
      "Epoch 20 | Train loss: 0.683777 | Val loss: 0.766422\n",
      "Epoch 21 | Train loss: 0.675419 | Val loss: 0.759941\n",
      "Epoch 22 | Train loss: 0.667501 | Val loss: 0.753851\n",
      "Epoch 23 | Train loss: 0.659976 | Val loss: 0.748108\n",
      "Epoch 24 | Train loss: 0.652819 | Val loss: 0.742695\n",
      "Epoch 25 | Train loss: 0.645999 | Val loss: 0.737574\n",
      "Epoch 26 | Train loss: 0.639489 | Val loss: 0.732727\n",
      "Epoch 27 | Train loss: 0.633267 | Val loss: 0.728141\n",
      "Epoch 28 | Train loss: 0.627313 | Val loss: 0.723792\n",
      "Epoch 29 | Train loss: 0.621608 | Val loss: 0.719662\n",
      "Epoch 30 | Train loss: 0.616129 | Val loss: 0.715728\n",
      "Epoch 31 | Train loss: 0.610866 | Val loss: 0.711990\n",
      "Epoch 32 | Train loss: 0.605805 | Val loss: 0.708429\n",
      "Epoch 33 | Train loss: 0.600932 | Val loss: 0.705031\n",
      "Epoch 34 | Train loss: 0.596232 | Val loss: 0.701785\n",
      "Epoch 35 | Train loss: 0.591699 | Val loss: 0.698689\n",
      "Epoch 36 | Train loss: 0.587319 | Val loss: 0.695722\n",
      "Epoch 37 | Train loss: 0.583086 | Val loss: 0.692880\n",
      "Epoch 38 | Train loss: 0.578993 | Val loss: 0.690162\n",
      "Epoch 39 | Train loss: 0.575028 | Val loss: 0.687549\n",
      "Epoch 40 | Train loss: 0.571185 | Val loss: 0.685044\n",
      "Epoch 41 | Train loss: 0.567462 | Val loss: 0.682651\n",
      "Epoch 42 | Train loss: 0.563845 | Val loss: 0.680341\n",
      "Epoch 43 | Train loss: 0.560332 | Val loss: 0.678118\n",
      "Epoch 44 | Train loss: 0.556920 | Val loss: 0.675985\n",
      "Epoch 45 | Train loss: 0.553606 | Val loss: 0.673940\n",
      "Epoch 46 | Train loss: 0.550378 | Val loss: 0.671962\n",
      "Epoch 47 | Train loss: 0.547233 | Val loss: 0.670045\n",
      "Epoch 48 | Train loss: 0.544171 | Val loss: 0.668201\n",
      "Epoch 49 | Train loss: 0.541189 | Val loss: 0.666430\n",
      "Epoch 50 | Train loss: 0.538283 | Val loss: 0.664724\n",
      "Epoch 51 | Train loss: 0.535447 | Val loss: 0.663072\n",
      "Epoch 52 | Train loss: 0.532678 | Val loss: 0.661475\n",
      "Epoch 53 | Train loss: 0.529973 | Val loss: 0.659931\n",
      "Epoch 54 | Train loss: 0.527331 | Val loss: 0.658436\n",
      "Epoch 55 | Train loss: 0.524749 | Val loss: 0.656987\n",
      "Epoch 56 | Train loss: 0.522224 | Val loss: 0.655586\n",
      "Epoch 57 | Train loss: 0.519756 | Val loss: 0.654236\n",
      "Epoch 58 | Train loss: 0.517343 | Val loss: 0.652930\n",
      "Epoch 59 | Train loss: 0.514981 | Val loss: 0.651668\n",
      "Epoch 60 | Train loss: 0.512668 | Val loss: 0.650442\n",
      "Epoch 61 | Train loss: 0.510402 | Val loss: 0.649254\n",
      "Epoch 62 | Train loss: 0.508180 | Val loss: 0.648093\n",
      "Epoch 63 | Train loss: 0.506001 | Val loss: 0.646968\n",
      "Epoch 64 | Train loss: 0.503867 | Val loss: 0.645880\n",
      "Epoch 65 | Train loss: 0.501771 | Val loss: 0.644821\n",
      "Epoch 66 | Train loss: 0.499717 | Val loss: 0.643796\n",
      "Epoch 67 | Train loss: 0.497700 | Val loss: 0.642796\n",
      "Epoch 68 | Train loss: 0.495719 | Val loss: 0.641819\n",
      "Epoch 69 | Train loss: 0.493777 | Val loss: 0.640883\n",
      "Epoch 70 | Train loss: 0.491868 | Val loss: 0.639970\n",
      "Epoch 71 | Train loss: 0.489989 | Val loss: 0.639069\n",
      "Epoch 72 | Train loss: 0.488144 | Val loss: 0.638199\n",
      "Epoch 73 | Train loss: 0.486334 | Val loss: 0.637361\n",
      "Epoch 74 | Train loss: 0.484553 | Val loss: 0.636539\n",
      "Epoch 75 | Train loss: 0.482802 | Val loss: 0.635742\n",
      "Epoch 76 | Train loss: 0.481080 | Val loss: 0.634964\n",
      "Epoch 77 | Train loss: 0.479386 | Val loss: 0.634210\n",
      "Epoch 78 | Train loss: 0.477720 | Val loss: 0.633477\n",
      "Epoch 79 | Train loss: 0.476078 | Val loss: 0.632758\n",
      "Epoch 80 | Train loss: 0.474465 | Val loss: 0.632063\n",
      "Epoch 81 | Train loss: 0.472872 | Val loss: 0.631376\n",
      "Epoch 82 | Train loss: 0.471305 | Val loss: 0.630713\n",
      "Epoch 83 | Train loss: 0.469761 | Val loss: 0.630061\n",
      "Epoch 84 | Train loss: 0.468238 | Val loss: 0.629422\n",
      "Epoch 85 | Train loss: 0.466740 | Val loss: 0.628807\n",
      "Epoch 86 | Train loss: 0.465265 | Val loss: 0.628209\n",
      "Epoch 87 | Train loss: 0.463809 | Val loss: 0.627619\n",
      "Epoch 88 | Train loss: 0.462374 | Val loss: 0.627044\n",
      "Epoch 89 | Train loss: 0.460958 | Val loss: 0.626480\n",
      "Epoch 90 | Train loss: 0.459565 | Val loss: 0.625939\n",
      "Epoch 91 | Train loss: 0.458190 | Val loss: 0.625407\n",
      "Epoch 92 | Train loss: 0.456831 | Val loss: 0.624885\n",
      "Epoch 93 | Train loss: 0.455491 | Val loss: 0.624376\n",
      "Epoch 94 | Train loss: 0.454169 | Val loss: 0.623876\n",
      "Epoch 95 | Train loss: 0.452867 | Val loss: 0.623397\n",
      "Epoch 96 | Train loss: 0.451582 | Val loss: 0.622932\n",
      "Epoch 97 | Train loss: 0.450313 | Val loss: 0.622473\n",
      "Epoch 98 | Train loss: 0.449064 | Val loss: 0.622035\n",
      "Epoch 99 | Train loss: 0.447827 | Val loss: 0.621595\n",
      "Epoch 100 | Train loss: 0.446606 | Val loss: 0.621166\n",
      "Epoch 101 | Train loss: 0.445398 | Val loss: 0.620742\n",
      "Epoch 102 | Train loss: 0.444205 | Val loss: 0.620334\n",
      "Epoch 103 | Train loss: 0.443027 | Val loss: 0.619932\n",
      "Epoch 104 | Train loss: 0.441862 | Val loss: 0.619533\n",
      "Epoch 105 | Train loss: 0.440711 | Val loss: 0.619146\n",
      "Epoch 106 | Train loss: 0.439576 | Val loss: 0.618772\n",
      "Epoch 107 | Train loss: 0.438452 | Val loss: 0.618403\n",
      "Epoch 108 | Train loss: 0.437341 | Val loss: 0.618040\n",
      "Epoch 109 | Train loss: 0.436245 | Val loss: 0.617692\n",
      "Epoch 110 | Train loss: 0.435161 | Val loss: 0.617348\n",
      "Epoch 111 | Train loss: 0.434090 | Val loss: 0.617014\n",
      "Epoch 112 | Train loss: 0.433028 | Val loss: 0.616677\n",
      "Epoch 113 | Train loss: 0.431978 | Val loss: 0.616351\n",
      "Epoch 114 | Train loss: 0.430941 | Val loss: 0.616036\n",
      "Epoch 115 | Train loss: 0.429914 | Val loss: 0.615724\n",
      "Epoch 116 | Train loss: 0.428899 | Val loss: 0.615417\n",
      "Epoch 117 | Train loss: 0.427896 | Val loss: 0.615119\n",
      "Epoch 118 | Train loss: 0.426904 | Val loss: 0.614831\n",
      "Epoch 119 | Train loss: 0.425920 | Val loss: 0.614545\n",
      "Epoch 120 | Train loss: 0.424949 | Val loss: 0.614268\n",
      "Epoch 121 | Train loss: 0.423987 | Val loss: 0.613997\n",
      "Epoch 122 | Train loss: 0.423035 | Val loss: 0.613728\n",
      "Epoch 123 | Train loss: 0.422092 | Val loss: 0.613464\n",
      "Epoch 124 | Train loss: 0.421159 | Val loss: 0.613207\n",
      "Epoch 125 | Train loss: 0.420235 | Val loss: 0.612957\n",
      "Epoch 126 | Train loss: 0.419321 | Val loss: 0.612712\n",
      "Epoch 127 | Train loss: 0.418417 | Val loss: 0.612474\n",
      "Epoch 128 | Train loss: 0.417521 | Val loss: 0.612238\n",
      "Epoch 129 | Train loss: 0.416635 | Val loss: 0.612011\n",
      "Epoch 130 | Train loss: 0.415755 | Val loss: 0.611781\n",
      "Epoch 131 | Train loss: 0.414886 | Val loss: 0.611563\n",
      "Epoch 132 | Train loss: 0.414025 | Val loss: 0.611349\n",
      "Epoch 133 | Train loss: 0.413174 | Val loss: 0.611144\n",
      "Epoch 134 | Train loss: 0.412330 | Val loss: 0.610940\n",
      "Epoch 135 | Train loss: 0.411495 | Val loss: 0.610741\n",
      "Epoch 136 | Train loss: 0.410666 | Val loss: 0.610544\n",
      "Epoch 137 | Train loss: 0.409845 | Val loss: 0.610352\n",
      "Epoch 138 | Train loss: 0.409031 | Val loss: 0.610159\n",
      "Epoch 139 | Train loss: 0.408226 | Val loss: 0.609977\n",
      "Epoch 140 | Train loss: 0.407428 | Val loss: 0.609800\n",
      "Epoch 141 | Train loss: 0.406637 | Val loss: 0.609625\n",
      "Epoch 142 | Train loss: 0.405853 | Val loss: 0.609451\n",
      "Epoch 143 | Train loss: 0.405076 | Val loss: 0.609280\n",
      "Epoch 144 | Train loss: 0.404305 | Val loss: 0.609113\n",
      "Epoch 145 | Train loss: 0.403543 | Val loss: 0.608957\n",
      "Epoch 146 | Train loss: 0.402785 | Val loss: 0.608796\n",
      "Epoch 147 | Train loss: 0.402035 | Val loss: 0.608641\n",
      "Epoch 148 | Train loss: 0.401289 | Val loss: 0.608481\n",
      "Epoch 149 | Train loss: 0.400552 | Val loss: 0.608332\n",
      "Epoch 150 | Train loss: 0.399820 | Val loss: 0.608185\n",
      "Epoch 151 | Train loss: 0.399096 | Val loss: 0.608044\n",
      "Epoch 152 | Train loss: 0.398379 | Val loss: 0.607906\n",
      "Epoch 153 | Train loss: 0.397666 | Val loss: 0.607769\n",
      "Epoch 154 | Train loss: 0.396960 | Val loss: 0.607636\n"
     ]
    },
    {
     "name": "stdout",
     "output_type": "stream",
     "text": [
      "Epoch 155 | Train loss: 0.396259 | Val loss: 0.607505\n",
      "Epoch 156 | Train loss: 0.395564 | Val loss: 0.607377\n",
      "Epoch 157 | Train loss: 0.394876 | Val loss: 0.607254\n",
      "Epoch 158 | Train loss: 0.394193 | Val loss: 0.607135\n",
      "Epoch 159 | Train loss: 0.393515 | Val loss: 0.607012\n",
      "Epoch 160 | Train loss: 0.392841 | Val loss: 0.606888\n",
      "Epoch 161 | Train loss: 0.392175 | Val loss: 0.606776\n",
      "Epoch 162 | Train loss: 0.391515 | Val loss: 0.606667\n",
      "Epoch 163 | Train loss: 0.390859 | Val loss: 0.606557\n",
      "Epoch 164 | Train loss: 0.390207 | Val loss: 0.606448\n",
      "Epoch 165 | Train loss: 0.389562 | Val loss: 0.606347\n",
      "Epoch 166 | Train loss: 0.388921 | Val loss: 0.606241\n",
      "Epoch 167 | Train loss: 0.388285 | Val loss: 0.606140\n",
      "Epoch 168 | Train loss: 0.387656 | Val loss: 0.606048\n"
     ]
    }
   ],
   "source": [
    "# TFIDF\n",
    "w_tfidf, loss_tr_tfidf, dev_loss_tfidf = SGD2(X_tr_count2, Y_tr2, \n",
    "                                             X_dev=X_dev_count2, \n",
    "                                             Y_dev=Y_dev2,\n",
    "                                             num_classes=3,\n",
    "                                             lr=0.001, \n",
    "                                             alpha=0.001, \n",
    "                                             epochs=200)"
   ]
  },
  {
   "cell_type": "markdown",
   "metadata": {},
   "source": [
    "Plot training and validation process and explain if your model overfit, underfit or is about right:"
   ]
  },
  {
   "cell_type": "code",
   "execution_count": 455,
   "metadata": {
    "ExecuteTime": {
     "end_time": "2020-02-15T14:31:09.903453Z",
     "start_time": "2020-02-15T14:31:09.901360Z"
    }
   },
   "outputs": [
    {
     "data": {
      "text/plain": [
       "<matplotlib.legend.Legend at 0x24481146c50>"
      ]
     },
     "execution_count": 455,
     "metadata": {},
     "output_type": "execute_result"
    },
    {
     "data": {
      "image/png": "[encoded data removed]",
      "text/plain": [
       "<Figure size 432x288 with 1 Axes>"
      ]
     },
     "metadata": {
      "needs_background": "light"
     },
     "output_type": "display_data"
    }
   ],
   "source": [
    "# Count\n",
    "epochs = len(loss_tr_count)\n",
    "plt.plot(list(range(epochs)), loss_tr_count, label = 'Training loss')\n",
    "plt.plot(list(range(epochs)), dev_loss_count, label = 'Validation loss')\n",
    "plt.xlabel('Epoch')\n",
    "plt.ylabel('Loss')\n",
    "plt.title('Training History Count')\n",
    "plt.legend()"
   ]
  },
  {
   "cell_type": "code",
   "execution_count": 457,
   "metadata": {},
   "outputs": [
    {
     "data": {
      "text/plain": [
       "<matplotlib.legend.Legend at 0x24481237d68>"
      ]
     },
     "execution_count": 457,
     "metadata": {},
     "output_type": "execute_result"
    },
    {
     "data": {
      "image/png": "[encoded data removed]",
      "text/plain": [
       "<Figure size 432x288 with 1 Axes>"
      ]
     },
     "metadata": {
      "needs_background": "light"
     },
     "output_type": "display_data"
    }
   ],
   "source": [
    "# TFIDF\n",
    "epochs = len(loss_tr_tfidf)\n",
    "plt.plot(list(range(epochs)), loss_tr_tfidf, label = 'Training loss')\n",
    "plt.plot(list(range(epochs)), dev_loss_tfidf, label = 'Validation loss')\n",
    "plt.xlabel('Epoch')\n",
    "plt.ylabel('Loss')\n",
    "plt.title('Training History TFIDF')\n",
    "plt.legend()"
   ]
  },
  {
   "cell_type": "markdown",
   "metadata": {},
   "source": [
    "Compute accuracy, precision, recall and F1-scores:"
   ]
  },
  {
   "cell_type": "code",
   "execution_count": 440,
   "metadata": {
    "ExecuteTime": {
     "end_time": "2020-02-15T14:32:12.606498Z",
     "start_time": "2020-02-15T14:32:12.604164Z"
    }
   },
   "outputs": [
    {
     "name": "stdout",
     "output_type": "stream",
     "text": [
      "Accuracy: 0.7366666666666667\n",
      "Precision: 0.7453267947258396\n",
      "Recall: 0.7366666666666667\n",
      "F1-Score: 0.7363437588992419\n"
     ]
    }
   ],
   "source": [
    "# Count\n",
    "preds_te = predict_class2(X_test_count2, w_count.T)\n",
    "\n",
    "print('Accuracy:', accuracy_score(Y_test2,preds_te))\n",
    "print('Precision:', precision_score(Y_test2,preds_te,average='macro'))\n",
    "print('Recall:', recall_score(Y_test2,preds_te,average='macro'))\n",
    "print('F1-Score:', f1_score(Y_test2,preds_te,average='macro'))"
   ]
  },
  {
   "cell_type": "markdown",
   "metadata": {},
   "source": [
    "Print the top-10 words for each class respectively."
   ]
  },
  {
   "cell_type": "code",
   "execution_count": 472,
   "metadata": {
    "ExecuteTime": {
     "end_time": "2020-02-15T14:32:26.224693Z",
     "start_time": "2020-02-15T14:32:26.221886Z"
    }
   },
   "outputs": [
    {
     "data": {
      "text/plain": [
       "['won men',\n",
       " 'homeless',\n",
       " 'Olympic gold medal',\n",
       " 'Real',\n",
       " 'psychological',\n",
       " 'Baghdad',\n",
       " 'time eight',\n",
       " 'playoff Sunday',\n",
       " 'earnings rose',\n",
       " 'charges']"
      ]
     },
     "execution_count": 472,
     "metadata": {},
     "output_type": "execute_result"
    }
   ],
   "source": [
    "# politics, sport, business\n",
    "pol_index = np.argpartition(w_count[0], -10)[-10:]\n",
    "top10pol = [vocab_id2[i] for i in pol_index]\n",
    "top10pol\n",
    "w_count[0]"
   ]
  },
  {
   "cell_type": "markdown",
   "metadata": {},
   "source": [
    "### Now evaluate BOW-tfidf..."
   ]
  },
  {
   "cell_type": "code",
   "execution_count": 452,
   "metadata": {},
   "outputs": [
    {
     "name": "stdout",
     "output_type": "stream",
     "text": [
      "Accuracy: 0.7388888888888889\n",
      "Precision: 0.7472416351923837\n",
      "Recall: 0.7388888888888889\n",
      "F1-Score: 0.7388514662856366\n"
     ]
    }
   ],
   "source": [
    "# TFIDF\n",
    "\n",
    "preds_te_tfidf = predict_class2(X_test_tfidf2, w_tfidf.T)\n",
    "\n",
    "print('Accuracy:', accuracy_score(Y_test2,preds_te_tfidf))\n",
    "print('Precision:', precision_score(Y_test2,preds_te_tfidf,average='macro'))\n",
    "print('Recall:', recall_score(Y_test2,preds_te_tfidf,average='macro'))\n",
    "print('F1-Score:', f1_score(Y_test2,preds_te_tfidf,average='macro'))"
   ]
  },
  {
   "cell_type": "markdown",
   "metadata": {},
   "source": [
    "### Discuss how did you choose model hyperparameters (e.g. learning rate and regularisation strength)? What is the relation between training epochs and learning rate? How the regularisation strength affects performance?"
   ]
  },
  {
   "cell_type": "markdown",
   "metadata": {
    "ExecuteTime": {
     "end_time": "2020-02-15T14:16:19.856538Z",
     "start_time": "2020-02-15T14:16:19.852547Z"
    }
   },
   "source": [
    "Hyperparameters were chosen in a similar way to task one, however I was unable to achieve a validation loss I was happy with."
   ]
  },
  {
   "cell_type": "markdown",
   "metadata": {
    "ExecuteTime": {
     "end_time": "2020-02-15T14:16:42.567569Z",
     "start_time": "2020-02-15T14:16:42.562560Z"
    }
   },
   "source": [
    "## Full Results\n",
    "\n",
    "Add here your results:\n",
    "\n",
    "| LR | Precision  | Recall  | F1-Score  |\n",
    "|:-:|:-:|:-:|:-:|\n",
    "| BOW-count  | 0.745  |  0.737 |  0.736 |\n",
    "| BOW-tfidf  |  0.747 | 0.739  | 0.739  |\n"
   ]
  }
 ],
 "metadata": {
  "kernelspec": {
   "display_name": "Python 3",
   "language": "python",
   "name": "python3"
  },
  "language_info": {
   "codemirror_mode": {
    "name": "ipython",
    "version": 3
   },
   "file_extension": ".py",
   "mimetype": "text/x-python",
   "name": "python",
   "nbconvert_exporter": "python",
   "pygments_lexer": "ipython3",
   "version": "3.7.3"
  }
 },
 "nbformat": 4,
 "nbformat_minor": 2
}
